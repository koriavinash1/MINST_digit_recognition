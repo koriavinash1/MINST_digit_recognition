{
 "cells": [
  {
   "cell_type": "code",
   "execution_count": 1,
   "metadata": {},
   "outputs": [
    {
     "name": "stdout",
     "output_type": "stream",
     "text": [
      "Extracting /tmp/data/train-images-idx3-ubyte.gz\n",
      "Extracting /tmp/data/train-labels-idx1-ubyte.gz\n",
      "Extracting /tmp/data/t10k-images-idx3-ubyte.gz\n",
      "Extracting /tmp/data/t10k-labels-idx1-ubyte.gz\n"
     ]
    }
   ],
   "source": [
    "# import tensorflow library\n",
    "import tensorflow as tf\n",
    "import time\n",
    "# Import MNIST data\n",
    "from tensorflow.examples.tutorials.mnist import input_data\n",
    "# one_hot key implies lables in onehot encoding\n",
    "mnist = input_data.read_data_sets(\"/tmp/data/\", one_hot=True)"
   ]
  },
  {
   "cell_type": "code",
   "execution_count": 2,
   "metadata": {
    "collapsed": true
   },
   "outputs": [],
   "source": [
    "# Parameters\n",
    "learning_rate = 0.001\n",
    "training_iters = 100000\n",
    "batch_size = 128\n",
    "display_step = 10"
   ]
  },
  {
   "cell_type": "code",
   "execution_count": 3,
   "metadata": {
    "collapsed": true
   },
   "outputs": [],
   "source": [
    "# Network Parameters\n",
    "n_input = 784 # 28*28\n",
    "n_classes = 10 # (0-9 digits)\n",
    "dropout = 0.75 # What use?"
   ]
  },
  {
   "cell_type": "code",
   "execution_count": 4,
   "metadata": {
    "collapsed": true
   },
   "outputs": [],
   "source": [
    "# define placeholders\n",
    "x = tf.placeholder(tf.float32, shape=(None, n_input))\n",
    "y = tf.placeholder(tf.float32, shape=(None, n_classes))"
   ]
  },
  {
   "cell_type": "code",
   "execution_count": 5,
   "metadata": {
    "collapsed": true
   },
   "outputs": [],
   "source": [
    "# miscill... functions\n",
    "def define_variable(shape, name): \n",
    "    return tf.Variable(tf.truncated_normal(shape, name = name))\n",
    "\n",
    "def conv2d(x, W, b):\n",
    "    x = tf.nn.conv2d(x, W, strides=[1, 1, 1, 1], padding='SAME')\n",
    "    x = tf.nn.bias_add(x, b)\n",
    "    return tf.nn.relu(x)\n",
    "\n",
    "def maxpool2d(x):\n",
    "    return tf.nn.max_pool(x, ksize=[1, 2, 2, 1], strides=[1, 2, 2, 1], padding='SAME')"
   ]
  },
  {
   "cell_type": "code",
   "execution_count": 6,
   "metadata": {
    "collapsed": true
   },
   "outputs": [],
   "source": [
    "weights = {\n",
    "    'wc1': define_variable([5, 5, 1, 32], 'wc1'), # 5x5 conv, 1 input, 32 outputs\n",
    "    'wc2': define_variable([5, 5, 32, 64], 'wc2'), # 5x5 conv, 32 inputs, 64 outputs\n",
    "    'wfc1': define_variable([7*7*64, 2048], 'wfc1'), # fully connected, 7*7*64 inputs, 2048 outputs\n",
    "    'wfc2': define_variable([2048, 1024], 'wfc2'), # fully connected, 2048 inputs, 1024 outputs\n",
    "    'out': define_variable([1024, n_classes], 'out') # 1024 inputs, 10 outputs (class prediction)\n",
    "}"
   ]
  },
  {
   "cell_type": "code",
   "execution_count": 7,
   "metadata": {
    "collapsed": true
   },
   "outputs": [],
   "source": [
    "biases = {\n",
    "    'bc1': define_variable([32], 'bc1'),\n",
    "    'bc2': define_variable([64], 'bc2'),\n",
    "    'bfc1': define_variable([2048], 'bfc1'),\n",
    "    'bfc2': define_variable([1024], 'bfc2'),\n",
    "    'out': define_variable([n_classes], 'out')\n",
    "}"
   ]
  },
  {
   "cell_type": "code",
   "execution_count": 8,
   "metadata": {
    "collapsed": true
   },
   "outputs": [],
   "source": [
    "def main_net(x, weights, biases, dropout = dropout):\n",
    "    # Reshape input picture\n",
    "    x = tf.reshape(x, shape=[-1, 28, 28, 1])\n",
    "\n",
    "    conv1 = conv2d(x, weights['wc1'], biases['bc1'])\n",
    "    conv1 = maxpool2d(conv1)\n",
    "\n",
    "    conv2 = conv2d(conv1, weights['wc2'], biases['bc2'])\n",
    "    conv2 = maxpool2d(conv2)\n",
    "    \n",
    "    print conv2\n",
    "    \n",
    "    # Reshape conv2 output to fit fully connected layer input\n",
    "    fc1 = tf.reshape(conv2, [-1, weights['wfc1'].get_shape().as_list()[0]])\n",
    "    \n",
    "    # fully connected layer 1\n",
    "    fc1 = tf.add(tf.matmul(fc1, weights['wfc1']), biases['bfc1'])\n",
    "    fc1 = tf.nn.relu(fc1)\n",
    "    \n",
    "    # fully connected layer 2\n",
    "    fc2 = tf.add(tf.matmul(fc1, weights['wfc2']), biases['bfc2'])\n",
    "    fc2 = tf.nn.relu(fc2)\n",
    "\n",
    "    # Output, class prediction\n",
    "    out = tf.add(tf.matmul(fc2, weights['out']), biases['out'])\n",
    "    return out"
   ]
  },
  {
   "cell_type": "code",
   "execution_count": 9,
   "metadata": {},
   "outputs": [
    {
     "name": "stdout",
     "output_type": "stream",
     "text": [
      "Tensor(\"MaxPool_1:0\", shape=(?, 7, 7, 64), dtype=float32)\n"
     ]
    }
   ],
   "source": [
    "# Construct model\n",
    "pred = main_net(x, weights, biases)\n",
    "\n",
    "# Define loss and optimizer\n",
    "cost = tf.reduce_mean(tf.nn.softmax_cross_entropy_with_logits(logits=pred, labels=y))\n",
    "optimizer = tf.train.AdamOptimizer(learning_rate=learning_rate).minimize(cost)\n",
    "\n",
    "# Evaluate model\n",
    "correct_pred = tf.equal(tf.argmax(pred, 1), tf.argmax(y, 1))\n",
    "accuracy = tf.reduce_mean(tf.cast(correct_pred, tf.float32))\n",
    "\n",
    "# Initializing the variables\n",
    "init = tf.global_variables_initializer()"
   ]
  },
  {
   "cell_type": "code",
   "execution_count": 10,
   "metadata": {
    "scrolled": true
   },
   "outputs": [
    {
     "name": "stdout",
     "output_type": "stream",
     "text": [
      "loss= 105836.531250, Accuracy= 0.62500\n",
      "loss= 66226.804688, Accuracy= 0.71875\n",
      "loss= 59853.929688, Accuracy= 0.80469\n",
      "loss= 38947.324219, Accuracy= 0.83594\n",
      "loss= 15847.291992, Accuracy= 0.89062\n",
      "loss= 59085.769531, Accuracy= 0.79688\n",
      "loss= 16931.441406, Accuracy= 0.91406\n",
      "loss= 29951.710938, Accuracy= 0.89062\n",
      "loss= 23895.773438, Accuracy= 0.92969\n",
      "loss= 24747.783203, Accuracy= 0.86719\n",
      "loss= 10414.979492, Accuracy= 0.96094\n",
      "loss= 7635.828613, Accuracy= 0.96094\n",
      "loss= 30323.498047, Accuracy= 0.91406\n",
      "loss= 16263.597656, Accuracy= 0.89844\n",
      "loss= 8497.299805, Accuracy= 0.93750\n",
      "loss= 4547.027344, Accuracy= 0.96094\n",
      "loss= 30547.767578, Accuracy= 0.88281\n",
      "loss= 6013.969727, Accuracy= 0.94531\n",
      "loss= 10515.533203, Accuracy= 0.92188\n",
      "loss= 27621.785156, Accuracy= 0.87500\n",
      "loss= 4308.918945, Accuracy= 0.96094\n",
      "loss= 13538.709961, Accuracy= 0.92188\n",
      "loss= 13304.580078, Accuracy= 0.94531\n",
      "loss= 10853.931641, Accuracy= 0.93750\n",
      "loss= 12321.388672, Accuracy= 0.93750\n",
      "loss= 18288.615234, Accuracy= 0.92188\n",
      "loss= 2947.820557, Accuracy= 0.99219\n",
      "loss= 6180.305664, Accuracy= 0.96875\n",
      "loss= 22267.998047, Accuracy= 0.90625\n",
      "loss= 1886.570312, Accuracy= 0.98438\n",
      "loss= 6771.361328, Accuracy= 0.93750\n",
      "loss= 18774.468750, Accuracy= 0.92969\n",
      "loss= 9631.370117, Accuracy= 0.95312\n",
      "loss= 5758.990234, Accuracy= 0.94531\n",
      "loss= 6866.181152, Accuracy= 0.96875\n",
      "loss= 7106.887695, Accuracy= 0.94531\n",
      "loss= 14992.093750, Accuracy= 0.92969\n",
      "loss= 24770.722656, Accuracy= 0.91406\n",
      "loss= 4835.154297, Accuracy= 0.95312\n",
      "loss= 10351.716797, Accuracy= 0.92969\n",
      "loss= 3815.274170, Accuracy= 0.94531\n",
      "loss= 3303.503662, Accuracy= 0.98438\n",
      "loss= 4239.687500, Accuracy= 0.95312\n",
      "loss= 3574.878906, Accuracy= 0.97656\n",
      "loss= 2791.746826, Accuracy= 0.98438\n",
      "loss= 4959.952148, Accuracy= 0.96094\n",
      "loss= 12771.027344, Accuracy= 0.94531\n",
      "loss= 5557.973633, Accuracy= 0.96875\n",
      "loss= 6710.110352, Accuracy= 0.98438\n",
      "loss= 11759.599609, Accuracy= 0.94531\n",
      "loss= 5479.592773, Accuracy= 0.96094\n",
      "loss= 2819.238281, Accuracy= 0.98438\n",
      "loss= 6338.042480, Accuracy= 0.95312\n",
      "loss= 16208.498047, Accuracy= 0.92188\n",
      "loss= 5285.649414, Accuracy= 0.96875\n",
      "loss= 5767.067383, Accuracy= 0.94531\n",
      "loss= 3949.375977, Accuracy= 0.97656\n",
      "loss= 1329.797607, Accuracy= 0.97656\n",
      "loss= 5201.303711, Accuracy= 0.96094\n",
      "loss= 718.936035, Accuracy= 0.99219\n",
      "loss= 11096.517578, Accuracy= 0.97656\n",
      "loss= 7075.201172, Accuracy= 0.96094\n",
      "loss= 6924.781250, Accuracy= 0.96875\n",
      "loss= 4283.842285, Accuracy= 0.96094\n",
      "loss= 3793.450928, Accuracy= 0.97656\n",
      "loss= 11955.460938, Accuracy= 0.95312\n",
      "loss= 1083.473389, Accuracy= 0.96875\n",
      "loss= 5715.807129, Accuracy= 0.96094\n",
      "loss= 3455.884277, Accuracy= 0.96094\n",
      "loss= 3547.895996, Accuracy= 0.98438\n",
      "loss= 7934.855957, Accuracy= 0.96875\n",
      "loss= 9421.511719, Accuracy= 0.96875\n",
      "loss= 2852.301270, Accuracy= 0.96875\n",
      "loss= 4240.684570, Accuracy= 0.98438\n",
      "loss= 5537.548828, Accuracy= 0.94531\n",
      "loss= 1726.654053, Accuracy= 0.98438\n",
      "loss= 6796.368652, Accuracy= 0.97656\n",
      "loss= 2427.088867, Accuracy= 0.96875\n",
      "Optimization Finished!\n",
      "1493697378.3\n",
      "('Testing Accuracy:', 0.9765625)\n"
     ]
    }
   ],
   "source": [
    "# Launch the graph\n",
    "with tf.Session() as sess:\n",
    "    t = time.time()\n",
    "    sess.run(init)\n",
    "    step = 1\n",
    "    # Keep training until reach max iterations\n",
    "    while step * batch_size < training_iters:\n",
    "        batch_x, batch_y = mnist.train.next_batch(batch_size)\n",
    "        # Run optimization op (backprop)\n",
    "        sess.run(optimizer, feed_dict={x: batch_x, y: batch_y})\n",
    "        if step % display_step == 0:\n",
    "            # Calculate batch loss and accuracy\n",
    "            loss, acc = sess.run([cost, accuracy], feed_dict={x: batch_x, y: batch_y})\n",
    "            print(\"loss= {:.6f}\".format(loss) + \", Accuracy= {:.5f}\".format(acc))\n",
    "        step += 1\n",
    "    print(\"Optimization Finished!\")\n",
    "    print t\n",
    "    # Calculate accuracy for 256 mnist test images\n",
    "    print(\"Testing Accuracy:\", sess.run(accuracy, feed_dict={x: mnist.test.images[:256], y: mnist.test.labels[:256]}))"
   ]
  }
 ],
 "metadata": {
  "kernelspec": {
   "display_name": "Python 2",
   "language": "python",
   "name": "python2"
  },
  "language_info": {
   "codemirror_mode": {
    "name": "ipython",
    "version": 2
   },
   "file_extension": ".py",
   "mimetype": "text/x-python",
   "name": "python",
   "nbconvert_exporter": "python",
   "pygments_lexer": "ipython2",
   "version": "2.7.6"
  }
 },
 "nbformat": 4,
 "nbformat_minor": 2
}
