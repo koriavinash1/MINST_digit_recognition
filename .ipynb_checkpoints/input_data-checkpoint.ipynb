{
 "cells": [
  {
   "cell_type": "code",
   "execution_count": 21,
   "metadata": {
    "collapsed": true
   },
   "outputs": [],
   "source": [
    "import tensorflow as tf\n",
    "import os\n",
    "import numpy as np\n",
    "import cv2"
   ]
  },
  {
   "cell_type": "code",
   "execution_count": 4,
   "metadata": {
    "collapsed": true
   },
   "outputs": [],
   "source": [
    "train_images_path = \"/media/koriavinash/New Volume1/Research/MNIST_database/newMNIST/train-images/\"\n",
    "test_images_path = \"/media/koriavinash/New Volume1/Research/MNIST_database/newMNIST/test-images/\"\n",
    "train_labels_path = \"/media/koriavinash/New Volume1/Research/MNIST_database/newMNIST/labels/trainlabels.csv\"\n",
    "test_labels_path = \"/media/koriavinash/New Volume1/Research/MNIST_database/newMNIST/labels/testlabels.csv\""
   ]
  },
  {
   "cell_type": "code",
   "execution_count": 23,
   "metadata": {
    "collapsed": true,
    "scrolled": true
   },
   "outputs": [],
   "source": [
    "def extract_images(folder_path, total_images):\n",
    "    return [ cv2.imread(folder_path + str(i) + \".jpg\") for i in xrange(total_images)]\n",
    "\n",
    "def dense_to_one_hot(labels_dense, num_classes=10):\n",
    "    num_labels = labels_dense.shape[0]\n",
    "    labels_one_hot = np.zeros((num_labels, num_classes))\n",
    "    for i in xrange(len(labels_dense)):\n",
    "        labels_one_hot[i][int(labels_dense[i][1])] = 1\n",
    "    return labels_one_hot\n",
    "\n",
    "def extract_labels(file_path, one_hot = False):\n",
    "    labels = np.genfromtxt(file_path, delimiter=\",\")\n",
    "    if one_hot:\n",
    "        return dense_to_one_hot(labels)\n",
    "    return labels\n",
    "\n",
    "# print extract_labels(test_labels_path, one_hot = True)\n",
    "# print extract_images(test_images_path, 10)"
   ]
  },
  {
   "cell_type": "code",
   "execution_count": 24,
   "metadata": {
    "collapsed": true
   },
   "outputs": [],
   "source": [
    "class DataSet(object):\n",
    "    def __init__(self, images, labels, fake_data=False):\n",
    "        if fake_data:\n",
    "            self._num_examples = 10000\n",
    "        else:\n",
    "            assert images.shape[0] == labels.shape[0], (\n",
    "                \"images.shape: %s labels.shape: %s\" % (images.shape,\n",
    "                                                       labels.shape))\n",
    "            self._num_examples = images.shape[0]\n",
    "            # Convert shape from [num examples, rows, columns, depth]\n",
    "            # to [num examples, rows*columns] (assuming depth == 1)\n",
    "            assert images.shape[3] == 1\n",
    "            images = images.reshape(images.shape[0],\n",
    "                                    images.shape[1] * images.shape[2])\n",
    "            # Convert from [0, 255] -> [0.0, 1.0].\n",
    "            images = images.astype(numpy.float32)\n",
    "            images = numpy.multiply(images, 1.0 / 255.0)\n",
    "        self._images = images\n",
    "        self._labels = labels\n",
    "        self._epochs_completed = 0\n",
    "        self._index_in_epoch = 0\n",
    "\n",
    "    @property\n",
    "    def images(self):\n",
    "        return self._images\n",
    "\n",
    "    @property\n",
    "    def labels(self):\n",
    "        return self._labels\n",
    "\n",
    "    @property\n",
    "    def num_examples(self):\n",
    "        return self._num_examples\n",
    "\n",
    "    @property\n",
    "    def epochs_completed(self):\n",
    "        return self._epochs_completed\n",
    "\n",
    "    def next_batch(self, batch_size, fake_data=False):\n",
    "        if fake_data:\n",
    "            fake_image = [1.0 for _ in xrange(784)]\n",
    "            fake_label = 0\n",
    "            return [fake_image for _ in xrange(batch_size)], [\n",
    "                fake_label for _ in xrange(batch_size)]\n",
    "        start = self._index_in_epoch\n",
    "        self._index_in_epoch += batch_size\n",
    "        if self._index_in_epoch > self._num_examples:\n",
    "            # Finished epoch\n",
    "            self._epochs_completed += 1\n",
    "            # Shuffle the data\n",
    "            perm = numpy.arange(self._num_examples)\n",
    "            numpy.random.shuffle(perm)\n",
    "            self._images = self._images[perm]\n",
    "            self._labels = self._labels[perm]\n",
    "            # Start next epoch\n",
    "            start = 0\n",
    "            self._index_in_epoch = batch_size\n",
    "            assert batch_size <= self._num_examples\n",
    "        end = self._index_in_epoch\n",
    "        return self._images[start:end], self._labels[start:end]"
   ]
  },
  {
   "cell_type": "code",
   "execution_count": 25,
   "metadata": {
    "collapsed": true
   },
   "outputs": [],
   "source": [
    "def read_data_sets(fake_data=False, one_hot=False, train_image_number = 360000, test_image_number = 60000):\n",
    "    class DataSets(object):\n",
    "        pass\n",
    "    data_sets = DataSets()\n",
    "    if fake_data:\n",
    "        data_sets.train = DataSet([], [], fake_data=True)\n",
    "        data_sets.validation = DataSet([], [], fake_data=True)\n",
    "        data_sets.test = DataSet([], [], fake_data=True)\n",
    "        return data_sets\n",
    "    VALIDATION_SIZE = 5000\n",
    "    train_images = extract_images(train_images_path, train_image_number)\n",
    "    train_labels = extract_labels(train_labels_path, one_hot=one_hot)\n",
    "    test_images = extract_images(test_image_path, test_image_number)\n",
    "    test_labels = extract_labels(local_file, one_hot=one_hot)\n",
    "    validation_images = train_images[:VALIDATION_SIZE]\n",
    "    validation_labels = train_labels[:VALIDATION_SIZE]\n",
    "    train_images = train_images[VALIDATION_SIZE:]\n",
    "    train_labels = train_labels[VALIDATION_SIZE:]\n",
    "    data_sets.train = DataSet(train_images, train_labels)\n",
    "    data_sets.validation = DataSet(validation_images, validation_labels)\n",
    "    data_sets.test = DataSet(test_images, test_labels)\n",
    "    return data_sets"
   ]
  }
 ],
 "metadata": {
  "kernelspec": {
   "display_name": "Python 2",
   "language": "python",
   "name": "python2"
  },
  "language_info": {
   "codemirror_mode": {
    "name": "ipython",
    "version": 2
   },
   "file_extension": ".py",
   "mimetype": "text/x-python",
   "name": "python",
   "nbconvert_exporter": "python",
   "pygments_lexer": "ipython2",
   "version": "2.7.6"
  }
 },
 "nbformat": 4,
 "nbformat_minor": 2
}
