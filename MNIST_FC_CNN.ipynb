{
 "cells": [
  {
   "cell_type": "code",
   "execution_count": 2,
   "metadata": {},
   "outputs": [
    {
     "name": "stdout",
     "output_type": "stream",
     "text": [
      "Extracting dataset/train-images-idx3-ubyte.gz\n",
      "Extracting dataset/train-labels-idx1-ubyte.gz\n",
      "Extracting dataset/t10k-images-idx3-ubyte.gz\n",
      "Extracting dataset/t10k-labels-idx1-ubyte.gz\n"
     ]
    }
   ],
   "source": [
    "# import tensorflow library\n",
    "import tensorflow as tf\n",
    "import time\n",
    "# Import MNIST data\n",
    "from tensorflow.examples.tutorials.mnist import input_data\n",
    "# one_hot key implies lables in onehot encoding\n",
    "mnist = input_data.read_data_sets(\"dataset\", one_hot=True)"
   ]
  },
  {
   "cell_type": "code",
   "execution_count": 3,
   "metadata": {
    "collapsed": true
   },
   "outputs": [],
   "source": [
    "# Parameters\n",
    "learning_rate = 0.001\n",
    "training_iters = 200000\n",
    "batch_size = 128\n",
    "display_step = 10"
   ]
  },
  {
   "cell_type": "code",
   "execution_count": 4,
   "metadata": {
    "collapsed": true
   },
   "outputs": [],
   "source": [
    "# Network Parameters\n",
    "n_input = 784 # 28*28\n",
    "n_classes = 10 # (0-9 digits)\n",
    "dropout = 0.75 # What use?"
   ]
  },
  {
   "cell_type": "code",
   "execution_count": 5,
   "metadata": {
    "collapsed": true
   },
   "outputs": [],
   "source": [
    "# define placeholders\n",
    "x = tf.placeholder(tf.float32, shape=(None, None))\n",
    "y = tf.placeholder(tf.float32, shape=(None, n_classes))"
   ]
  },
  {
   "cell_type": "code",
   "execution_count": 6,
   "metadata": {
    "collapsed": true
   },
   "outputs": [],
   "source": [
    "# miscill... functions\n",
    "def define_variable(shape, name): \n",
    "    return tf.Variable(tf.truncated_normal(shape, name = name))\n",
    "\n",
    "def conv2d(x, W, b):\n",
    "    x = tf.nn.conv2d(x, W, strides=[1, 1, 1, 1], padding='SAME')\n",
    "    x = tf.nn.bias_add(x, b)\n",
    "    return tf.nn.relu(x)\n",
    "\n",
    "def maxpool2d(x):\n",
    "    return tf.nn.max_pool(x, ksize=[1, 2, 2, 1], strides=[1, 2, 2, 1], padding='SAME')"
   ]
  },
  {
   "cell_type": "code",
   "execution_count": 7,
   "metadata": {
    "collapsed": true
   },
   "outputs": [],
   "source": [
    "weights = {\n",
    "    'wc1': define_variable([5, 5, 1, 32], 'wc1'), # 5x5 conv, 1 input, 32 outputs\n",
    "    'wc2': define_variable([5, 5, 32, 64], 'wc2'), # 5x5 conv, 32 inputs, 64 outputs\n",
    "    'wfc1': define_variable([7*7*64, 2048], 'wfc1'), # fully connected, 7*7*64 inputs, 2048 outputs\n",
    "    'wfc2': define_variable([2048, 1024], 'wfc2'), # fully connected, 2048 inputs, 1024 outputs\n",
    "    'out': define_variable([1024, n_classes], 'out') # 1024 inputs, 10 outputs (class prediction)\n",
    "}"
   ]
  },
  {
   "cell_type": "code",
   "execution_count": 8,
   "metadata": {
    "collapsed": true
   },
   "outputs": [],
   "source": [
    "biases = {\n",
    "    'bc1': define_variable([32], 'bc1'),\n",
    "    'bc2': define_variable([64], 'bc2'),\n",
    "    'bfc1': define_variable([2048], 'bfc1'),\n",
    "    'bfc2': define_variable([1024], 'bfc2'),\n",
    "    'out': define_variable([n_classes], 'out')\n",
    "}"
   ]
  },
  {
   "cell_type": "code",
   "execution_count": 9,
   "metadata": {
    "collapsed": true
   },
   "outputs": [],
   "source": [
    "def main_net(x, weights, biases, dropout = dropout):\n",
    "    # Reshape input picture\n",
    "    x = tf.reshape(x, shape=[-1, 28, 28, 1])\n",
    "\n",
    "    conv1 = conv2d(x, weights['wc1'], biases['bc1'])\n",
    "    conv1 = maxpool2d(conv1)\n",
    "\n",
    "    conv2 = conv2d(conv1, weights['wc2'], biases['bc2'])\n",
    "    conv2 = maxpool2d(conv2)\n",
    "    \n",
    "    print conv2\n",
    "    \n",
    "    # Reshape conv2 output to fit fully connected layer input\n",
    "    fc1 = tf.reshape(conv2, [-1, weights['wfc1'].get_shape().as_list()[0]])\n",
    "    \n",
    "    # fully connected layer 1\n",
    "    fc1 = tf.add(tf.matmul(fc1, weights['wfc1']), biases['bfc1'])\n",
    "    fc1 = tf.nn.relu(fc1)\n",
    "    \n",
    "    # fully connected layer 2\n",
    "    fc2 = tf.add(tf.matmul(fc1, weights['wfc2']), biases['bfc2'])\n",
    "    fc2 = tf.nn.relu(fc2)\n",
    "\n",
    "    # Output, class prediction\n",
    "    out = tf.add(tf.matmul(fc2, weights['out']), biases['out'])\n",
    "    return out"
   ]
  },
  {
   "cell_type": "code",
   "execution_count": 10,
   "metadata": {},
   "outputs": [
    {
     "name": "stdout",
     "output_type": "stream",
     "text": [
      "Tensor(\"MaxPool_1:0\", shape=(?, 7, 7, 64), dtype=float32)\n"
     ]
    }
   ],
   "source": [
    "# Construct model\n",
    "pred = main_net(x, weights, biases)\n",
    "\n",
    "# Define loss and optimizer\n",
    "cost = tf.reduce_mean(tf.nn.softmax_cross_entropy_with_logits(logits=pred, labels=y))\n",
    "optimizer = tf.train.AdamOptimizer(learning_rate=learning_rate).minimize(cost)\n",
    "\n",
    "# Evaluate model\n",
    "correct_pred = tf.equal(tf.argmax(pred, 1), tf.argmax(y, 1))\n",
    "accuracy = tf.reduce_mean(tf.cast(correct_pred, tf.float32))\n",
    "\n",
    "# Initializing the variables\n",
    "init = tf.global_variables_initializer()"
   ]
  },
  {
   "cell_type": "code",
   "execution_count": 11,
   "metadata": {
    "scrolled": true
   },
   "outputs": [
    {
     "name": "stdout",
     "output_type": "stream",
     "text": [
      "loss= 746596.000000, Accuracy= 0.24219\n",
      "loss= 141256.328125, Accuracy= 0.56250\n",
      "loss= 115641.218750, Accuracy= 0.67188\n",
      "loss= 64446.382812, Accuracy= 0.84375\n",
      "loss= 39170.925781, Accuracy= 0.85938\n",
      "loss= 88054.460938, Accuracy= 0.79688\n",
      "loss= 25526.585938, Accuracy= 0.87500\n",
      "loss= 36161.875000, Accuracy= 0.88281\n",
      "loss= 30458.695312, Accuracy= 0.90625\n",
      "loss= 25658.738281, Accuracy= 0.86719\n",
      "loss= 13196.391602, Accuracy= 0.92969\n",
      "loss= 19279.498047, Accuracy= 0.92188\n",
      "loss= 23172.121094, Accuracy= 0.92969\n",
      "loss= 20395.156250, Accuracy= 0.92969\n",
      "loss= 12607.646484, Accuracy= 0.93750\n",
      "loss= 9131.324219, Accuracy= 0.96094\n",
      "loss= 47256.265625, Accuracy= 0.85938\n",
      "loss= 14426.634766, Accuracy= 0.92969\n",
      "loss= 20883.765625, Accuracy= 0.89844\n",
      "loss= 10879.648438, Accuracy= 0.90625\n",
      "loss= 9079.792969, Accuracy= 0.94531\n",
      "loss= 14107.044922, Accuracy= 0.90625\n",
      "loss= 20151.269531, Accuracy= 0.93750\n",
      "loss= 21343.902344, Accuracy= 0.90625\n",
      "loss= 9050.318359, Accuracy= 0.93750\n",
      "loss= 19092.712891, Accuracy= 0.92188\n",
      "loss= 9475.363281, Accuracy= 0.95312\n",
      "loss= 12820.821289, Accuracy= 0.94531\n",
      "loss= 19125.621094, Accuracy= 0.92188\n",
      "loss= 4548.324707, Accuracy= 0.94531\n",
      "loss= 8458.968750, Accuracy= 0.96094\n",
      "loss= 23157.281250, Accuracy= 0.91406\n",
      "loss= 9916.250000, Accuracy= 0.93750\n",
      "loss= 6079.395996, Accuracy= 0.95312\n",
      "loss= 5717.223633, Accuracy= 0.95312\n",
      "loss= 4786.066895, Accuracy= 0.95312\n",
      "loss= 11315.691406, Accuracy= 0.92969\n",
      "loss= 21246.677734, Accuracy= 0.92969\n",
      "loss= 18426.988281, Accuracy= 0.91406\n",
      "loss= 12928.712891, Accuracy= 0.93750\n",
      "loss= 5407.786133, Accuracy= 0.97656\n",
      "loss= 4296.121094, Accuracy= 0.96094\n",
      "loss= 15694.562500, Accuracy= 0.90625\n",
      "loss= 11387.080078, Accuracy= 0.94531\n",
      "loss= 5304.474121, Accuracy= 0.97656\n",
      "loss= 5256.147949, Accuracy= 0.97656\n",
      "loss= 4429.396484, Accuracy= 0.98438\n",
      "loss= 8724.454102, Accuracy= 0.95312\n",
      "loss= 4532.873535, Accuracy= 0.96094\n",
      "loss= 967.581543, Accuracy= 0.96875\n",
      "loss= 6123.734863, Accuracy= 0.94531\n",
      "loss= 15471.753906, Accuracy= 0.92969\n",
      "loss= 2879.237061, Accuracy= 0.96875\n",
      "loss= 7240.980957, Accuracy= 0.93750\n",
      "loss= 15031.066406, Accuracy= 0.94531\n",
      "loss= 13971.751953, Accuracy= 0.95312\n",
      "loss= 7790.134277, Accuracy= 0.95312\n",
      "loss= 0.000000, Accuracy= 1.00000\n",
      "loss= 809.929199, Accuracy= 0.95312\n",
      "loss= 2070.971191, Accuracy= 0.97656\n",
      "loss= 3649.075684, Accuracy= 0.97656\n",
      "loss= 18549.863281, Accuracy= 0.94531\n",
      "loss= 3426.625488, Accuracy= 0.95312\n",
      "loss= 12185.896484, Accuracy= 0.95312\n",
      "loss= 13549.063477, Accuracy= 0.96875\n",
      "loss= 6091.258301, Accuracy= 0.95312\n",
      "loss= 11418.830078, Accuracy= 0.92969\n",
      "loss= 9510.397461, Accuracy= 0.96094\n",
      "loss= 7933.422363, Accuracy= 0.95312\n",
      "loss= 11963.070312, Accuracy= 0.95312\n",
      "loss= 3431.643066, Accuracy= 0.98438\n",
      "loss= 6023.819824, Accuracy= 0.97656\n",
      "loss= 10431.244141, Accuracy= 0.96094\n",
      "loss= 4715.424805, Accuracy= 0.95312\n",
      "loss= 424.937988, Accuracy= 0.99219\n",
      "loss= 3959.601807, Accuracy= 0.97656\n",
      "loss= 3089.039062, Accuracy= 0.95312\n",
      "loss= 5338.321289, Accuracy= 0.96875\n",
      "loss= 1326.863037, Accuracy= 0.97656\n",
      "loss= 1645.243164, Accuracy= 0.98438\n",
      "loss= 4624.788574, Accuracy= 0.97656\n",
      "loss= 3808.350586, Accuracy= 0.95312\n",
      "loss= 5180.703125, Accuracy= 0.96094\n",
      "loss= 9229.846680, Accuracy= 0.96875\n",
      "loss= 826.667480, Accuracy= 0.98438\n",
      "loss= 2834.241699, Accuracy= 0.96875\n",
      "loss= 2084.707764, Accuracy= 0.97656\n",
      "loss= 3476.712891, Accuracy= 0.97656\n",
      "loss= 1580.233154, Accuracy= 0.97656\n",
      "loss= 7725.890137, Accuracy= 0.94531\n",
      "loss= 8884.137695, Accuracy= 0.96094\n",
      "loss= 9738.629883, Accuracy= 0.94531\n",
      "loss= 6549.568359, Accuracy= 0.97656\n",
      "loss= 1431.171875, Accuracy= 0.96094\n",
      "loss= 1883.264893, Accuracy= 0.97656\n",
      "loss= 5324.881836, Accuracy= 0.96875\n",
      "loss= 2442.891602, Accuracy= 0.96094\n",
      "loss= 2202.610840, Accuracy= 0.97656\n",
      "loss= 1698.335938, Accuracy= 0.96094\n",
      "loss= 4891.044434, Accuracy= 0.99219\n",
      "loss= 1925.845215, Accuracy= 0.98438\n",
      "loss= 3750.489746, Accuracy= 0.96094\n",
      "loss= 1635.269043, Accuracy= 0.98438\n",
      "loss= 1548.916260, Accuracy= 0.98438\n",
      "loss= 2965.669434, Accuracy= 0.96875\n",
      "loss= 3134.344727, Accuracy= 0.95312\n",
      "loss= 6975.953613, Accuracy= 0.97656\n",
      "loss= 3434.579102, Accuracy= 0.97656\n",
      "loss= 2046.970703, Accuracy= 0.96875\n",
      "loss= 8249.726562, Accuracy= 0.95312\n",
      "loss= 2680.333984, Accuracy= 0.98438\n",
      "loss= 16641.451172, Accuracy= 0.97656\n",
      "loss= 8157.316895, Accuracy= 0.95312\n",
      "loss= 1170.107422, Accuracy= 0.99219\n",
      "loss= 3436.580078, Accuracy= 0.96094\n",
      "loss= 0.000000, Accuracy= 1.00000\n",
      "loss= 4106.771484, Accuracy= 0.96094\n",
      "loss= 0.000000, Accuracy= 1.00000\n",
      "loss= 1460.288086, Accuracy= 0.99219\n",
      "loss= 4905.732910, Accuracy= 0.96094\n",
      "loss= 1402.524414, Accuracy= 0.98438\n",
      "loss= 1825.348877, Accuracy= 0.96875\n",
      "loss= 0.000000, Accuracy= 1.00000\n",
      "loss= 1035.659668, Accuracy= 0.98438\n",
      "loss= 13560.771484, Accuracy= 0.96094\n",
      "loss= 4377.812500, Accuracy= 0.96094\n",
      "loss= 2447.474609, Accuracy= 0.96875\n",
      "loss= 2185.409668, Accuracy= 0.96875\n",
      "loss= 257.886719, Accuracy= 0.99219\n",
      "loss= 1673.740234, Accuracy= 0.97656\n",
      "loss= 909.839844, Accuracy= 0.98438\n",
      "loss= 1809.661133, Accuracy= 0.97656\n",
      "loss= 2065.510742, Accuracy= 0.98438\n",
      "loss= 3696.367188, Accuracy= 0.96875\n",
      "loss= 2718.567383, Accuracy= 0.98438\n",
      "loss= 2549.115967, Accuracy= 0.98438\n",
      "loss= 4512.526367, Accuracy= 0.98438\n",
      "loss= 500.158203, Accuracy= 0.99219\n",
      "loss= 1411.753174, Accuracy= 0.96875\n",
      "loss= 681.391113, Accuracy= 0.99219\n",
      "loss= 141.592773, Accuracy= 0.98438\n",
      "loss= 4565.978516, Accuracy= 0.96875\n",
      "loss= 2342.050293, Accuracy= 0.96875\n",
      "loss= 2174.446533, Accuracy= 0.99219\n",
      "loss= 2467.467285, Accuracy= 0.99219\n",
      "loss= 278.502441, Accuracy= 0.99219\n",
      "loss= 2935.884766, Accuracy= 0.97656\n",
      "loss= 644.939453, Accuracy= 0.99219\n",
      "loss= 1419.096436, Accuracy= 0.99219\n",
      "loss= 1063.272461, Accuracy= 0.99219\n",
      "loss= 1276.420898, Accuracy= 0.99219\n",
      "loss= 2110.083984, Accuracy= 0.98438\n",
      "loss= 2211.750244, Accuracy= 0.98438\n",
      "loss= 7618.308105, Accuracy= 0.96094\n",
      "loss= 1286.601562, Accuracy= 0.99219\n",
      "loss= 1926.801758, Accuracy= 0.98438\n",
      "Optimization Finished!\n",
      "1494406253.77\n",
      "('Testing Accuracy:', 0.984375)\n"
     ]
    }
   ],
   "source": [
    "# Launch the graph\n",
    "with tf.Session() as sess:\n",
    "    t = time.time()\n",
    "    sess.run(init)\n",
    "    step = 1\n",
    "    # Keep training until reach max iterations\n",
    "    while step * batch_size < training_iters:\n",
    "        batch_x, batch_y = mnist.train.next_batch(batch_size)\n",
    "        # Run optimization op (backprop)\n",
    "        sess.run(optimizer, feed_dict={x: batch_x, y: batch_y})\n",
    "        if step % display_step == 0:\n",
    "            # Calculate batch loss and accuracy\n",
    "            loss, acc = sess.run([cost, accuracy], feed_dict={x: batch_x, y: batch_y})\n",
    "            print(\"loss= {:.6f}\".format(loss) + \", Accuracy= {:.5f}\".format(acc))\n",
    "        step += 1\n",
    "    print(\"Optimization Finished!\")\n",
    "    print t\n",
    "    # Calculate accuracy for 256 mnist test images\n",
    "    print(\"Testing Accuracy:\", sess.run(accuracy, feed_dict={x: mnist.test.images[:256], y: mnist.test.labels[:256]}))"
   ]
  }
 ],
 "metadata": {
  "kernelspec": {
   "display_name": "Python 2",
   "language": "python",
   "name": "python2"
  },
  "language_info": {
   "codemirror_mode": {
    "name": "ipython",
    "version": 2
   },
   "file_extension": ".py",
   "mimetype": "text/x-python",
   "name": "python",
   "nbconvert_exporter": "python",
   "pygments_lexer": "ipython2",
   "version": "2.7.6"
  }
 },
 "nbformat": 4,
 "nbformat_minor": 2
}
