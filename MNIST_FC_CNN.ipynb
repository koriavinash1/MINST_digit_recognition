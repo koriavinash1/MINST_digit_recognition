{
 "cells": [
  {
   "cell_type": "code",
   "execution_count": 1,
   "metadata": {},
   "outputs": [
    {
     "name": "stdout",
     "output_type": "stream",
     "text": [
      "Extracting /tmp/data/train-images-idx3-ubyte.gz\n",
      "Extracting /tmp/data/train-labels-idx1-ubyte.gz\n",
      "Extracting /tmp/data/t10k-images-idx3-ubyte.gz\n",
      "Extracting /tmp/data/t10k-labels-idx1-ubyte.gz\n"
     ]
    }
   ],
   "source": [
    "# import tensorflow library\n",
    "import tensorflow as tf\n",
    "import time\n",
    "# Import MNIST data\n",
    "from tensorflow.examples.tutorials.mnist import input_data\n",
    "# one_hot key implies lables in onehot encoding\n",
    "mnist = input_data.read_data_sets(\"/tmp/data/\", one_hot=True)"
   ]
  },
  {
   "cell_type": "code",
   "execution_count": 2,
   "metadata": {
    "collapsed": true
   },
   "outputs": [],
   "source": [
    "# Parameters\n",
    "learning_rate = 0.001\n",
    "training_iters = 200000\n",
    "batch_size = 128\n",
    "display_step = 10"
   ]
  },
  {
   "cell_type": "code",
   "execution_count": 3,
   "metadata": {
    "collapsed": true
   },
   "outputs": [],
   "source": [
    "# Network Parameters\n",
    "n_input = 784 # 28*28\n",
    "n_classes = 10 # (0-9 digits)\n",
    "dropout = 0.75 # What use?"
   ]
  },
  {
   "cell_type": "code",
   "execution_count": 4,
   "metadata": {
    "collapsed": true
   },
   "outputs": [],
   "source": [
    "# define placeholders\n",
    "x = tf.placeholder(tf.float32, shape=(None, n_input))\n",
    "y = tf.placeholder(tf.float32, shape=(None, n_classes))"
   ]
  },
  {
   "cell_type": "code",
   "execution_count": 5,
   "metadata": {
    "collapsed": true
   },
   "outputs": [],
   "source": [
    "# miscill... functions\n",
    "def define_variable(shape, name): \n",
    "    return tf.Variable(tf.truncated_normal(shape, name = name))\n",
    "\n",
    "def conv2d(x, W, b):\n",
    "    x = tf.nn.conv2d(x, W, strides=[1, 1, 1, 1], padding='SAME')\n",
    "    x = tf.nn.bias_add(x, b)\n",
    "    return tf.nn.relu(x)\n",
    "\n",
    "def maxpool2d(x):\n",
    "    return tf.nn.max_pool(x, ksize=[1, 2, 2, 1], strides=[1, 2, 2, 1], padding='SAME')"
   ]
  },
  {
   "cell_type": "code",
   "execution_count": 6,
   "metadata": {
    "collapsed": true
   },
   "outputs": [],
   "source": [
    "weights = {\n",
    "    'wc1': define_variable([5, 5, 1, 32], 'wc1'), # 5x5 conv, 1 input, 32 outputs\n",
    "    'wc2': define_variable([5, 5, 32, 64], 'wc2'), # 5x5 conv, 32 inputs, 64 outputs\n",
    "    'wfc1': define_variable([7*7*64, 2048], 'wfc1'), # fully connected, 7*7*64 inputs, 2048 outputs\n",
    "    'wfc2': define_variable([2048, 1024], 'wfc2'), # fully connected, 2048 inputs, 1024 outputs\n",
    "    'out': define_variable([1024, n_classes], 'out') # 1024 inputs, 10 outputs (class prediction)\n",
    "}"
   ]
  },
  {
   "cell_type": "code",
   "execution_count": 7,
   "metadata": {
    "collapsed": true
   },
   "outputs": [],
   "source": [
    "biases = {\n",
    "    'bc1': define_variable([32], 'bc1'),\n",
    "    'bc2': define_variable([64], 'bc2'),\n",
    "    'bfc1': define_variable([2048], 'bfc1'),\n",
    "    'bfc2': define_variable([1024], 'bfc2'),\n",
    "    'out': define_variable([n_classes], 'out')\n",
    "}"
   ]
  },
  {
   "cell_type": "code",
   "execution_count": 8,
   "metadata": {
    "collapsed": true
   },
   "outputs": [],
   "source": [
    "def main_net(x, weights, biases, dropout = dropout):\n",
    "    # Reshape input picture\n",
    "    x = tf.reshape(x, shape=[-1, 28, 28, 1])\n",
    "\n",
    "    conv1 = conv2d(x, weights['wc1'], biases['bc1'])\n",
    "    conv1 = maxpool2d(conv1)\n",
    "\n",
    "    conv2 = conv2d(conv1, weights['wc2'], biases['bc2'])\n",
    "    conv2 = maxpool2d(conv2)\n",
    "    \n",
    "    print conv2\n",
    "    \n",
    "    # Reshape conv2 output to fit fully connected layer input\n",
    "    fc1 = tf.reshape(conv2, [-1, weights['wfc1'].get_shape().as_list()[0]])\n",
    "    \n",
    "    # fully connected layer 1\n",
    "    fc1 = tf.add(tf.matmul(fc1, weights['wfc1']), biases['bfc1'])\n",
    "    fc1 = tf.nn.relu(fc1)\n",
    "    \n",
    "    # fully connected layer 2\n",
    "    fc2 = tf.add(tf.matmul(fc1, weights['wfc2']), biases['bfc2'])\n",
    "    fc2 = tf.nn.relu(fc2)\n",
    "\n",
    "    # Output, class prediction\n",
    "    out = tf.add(tf.matmul(fc2, weights['out']), biases['out'])\n",
    "    return out"
   ]
  },
  {
   "cell_type": "code",
   "execution_count": 9,
   "metadata": {},
   "outputs": [
    {
     "name": "stdout",
     "output_type": "stream",
     "text": [
      "Tensor(\"MaxPool_1:0\", shape=(?, 7, 7, 64), dtype=float32)\n"
     ]
    }
   ],
   "source": [
    "# Construct model\n",
    "pred = main_net(x, weights, biases)\n",
    "\n",
    "# Define loss and optimizer\n",
    "cost = tf.reduce_mean(tf.nn.softmax_cross_entropy_with_logits(logits=pred, labels=y))\n",
    "optimizer = tf.train.AdamOptimizer(learning_rate=learning_rate).minimize(cost)\n",
    "\n",
    "# Evaluate model\n",
    "correct_pred = tf.equal(tf.argmax(pred, 1), tf.argmax(y, 1))\n",
    "accuracy = tf.reduce_mean(tf.cast(correct_pred, tf.float32))\n",
    "\n",
    "# Initializing the variables\n",
    "init = tf.global_variables_initializer()"
   ]
  },
  {
   "cell_type": "code",
   "execution_count": 10,
   "metadata": {
    "scrolled": true
   },
   "outputs": [
    {
     "name": "stdout",
     "output_type": "stream",
     "text": [
      "loss= 238107.031250, Accuracy= 0.46875\n",
      "loss= 148056.953125, Accuracy= 0.55469\n",
      "loss= 80411.046875, Accuracy= 0.71094\n",
      "loss= 37589.507812, Accuracy= 0.87500\n",
      "loss= 28106.335938, Accuracy= 0.85156\n",
      "loss= 69239.265625, Accuracy= 0.78125\n",
      "loss= 15126.808594, Accuracy= 0.90625\n",
      "loss= 17448.589844, Accuracy= 0.86719\n",
      "loss= 12537.723633, Accuracy= 0.92969\n",
      "loss= 24409.667969, Accuracy= 0.82812\n",
      "loss= 10591.248047, Accuracy= 0.92188\n",
      "loss= 8869.946289, Accuracy= 0.94531\n",
      "loss= 30581.945312, Accuracy= 0.82812\n",
      "loss= 18343.697266, Accuracy= 0.89844\n",
      "loss= 15837.876953, Accuracy= 0.89844\n",
      "loss= 8268.785156, Accuracy= 0.96875\n",
      "loss= 39679.828125, Accuracy= 0.83594\n",
      "loss= 5669.328125, Accuracy= 0.94531\n",
      "loss= 11714.302734, Accuracy= 0.91406\n",
      "loss= 12194.192383, Accuracy= 0.92969\n",
      "loss= 13985.338867, Accuracy= 0.93750\n",
      "loss= 9119.533203, Accuracy= 0.92969\n",
      "loss= 18172.429688, Accuracy= 0.92188\n",
      "loss= 12664.756836, Accuracy= 0.91406\n",
      "loss= 9971.997070, Accuracy= 0.91406\n",
      "loss= 16776.730469, Accuracy= 0.89844\n",
      "loss= 2138.851074, Accuracy= 0.95312\n",
      "loss= 10143.187500, Accuracy= 0.93750\n",
      "loss= 20880.986328, Accuracy= 0.92969\n",
      "loss= 365.479919, Accuracy= 0.99219\n",
      "loss= 3026.903564, Accuracy= 0.96875\n",
      "loss= 22003.265625, Accuracy= 0.89844\n",
      "loss= 13305.671875, Accuracy= 0.91406\n",
      "loss= 5287.488281, Accuracy= 0.95312\n",
      "loss= 10457.900391, Accuracy= 0.90625\n",
      "loss= 1034.005615, Accuracy= 0.98438\n",
      "loss= 9634.025391, Accuracy= 0.92969\n",
      "loss= 17720.103516, Accuracy= 0.90625\n",
      "loss= 10838.828125, Accuracy= 0.93750\n",
      "loss= 5848.907227, Accuracy= 0.94531\n",
      "loss= 8981.821289, Accuracy= 0.96094\n",
      "loss= 1528.207886, Accuracy= 0.97656\n",
      "loss= 4763.168945, Accuracy= 0.96094\n",
      "loss= 1068.517090, Accuracy= 0.96875\n",
      "loss= 8349.787109, Accuracy= 0.92969\n",
      "loss= 5098.678711, Accuracy= 0.97656\n",
      "loss= 5743.440430, Accuracy= 0.95312\n",
      "loss= 8728.919922, Accuracy= 0.95312\n",
      "loss= 8453.724609, Accuracy= 0.94531\n",
      "loss= 4345.910645, Accuracy= 0.97656\n",
      "loss= 2203.775635, Accuracy= 0.96875\n",
      "loss= 7385.420410, Accuracy= 0.94531\n",
      "loss= 6950.669434, Accuracy= 0.95312\n",
      "loss= 4441.379883, Accuracy= 0.96875\n",
      "loss= 10175.022461, Accuracy= 0.93750\n",
      "loss= 5149.009766, Accuracy= 0.97656\n",
      "loss= 3141.853271, Accuracy= 0.97656\n",
      "loss= 5231.860840, Accuracy= 0.97656\n",
      "loss= 2236.390869, Accuracy= 0.95312\n",
      "loss= 8481.400391, Accuracy= 0.95312\n",
      "loss= 12551.385742, Accuracy= 0.95312\n",
      "loss= 5112.343750, Accuracy= 0.95312\n",
      "loss= 8257.912109, Accuracy= 0.96094\n",
      "loss= 9365.904297, Accuracy= 0.93750\n",
      "loss= 3256.116699, Accuracy= 0.95312\n",
      "loss= 3338.765625, Accuracy= 0.96094\n",
      "loss= 5728.606445, Accuracy= 0.94531\n",
      "loss= 2881.830322, Accuracy= 0.96875\n",
      "loss= 6264.895020, Accuracy= 0.93750\n",
      "loss= 694.720215, Accuracy= 0.99219\n",
      "loss= 6602.584473, Accuracy= 0.92969\n",
      "loss= 1208.573975, Accuracy= 0.98438\n",
      "loss= 7110.211914, Accuracy= 0.95312\n",
      "loss= 2861.102539, Accuracy= 0.97656\n",
      "loss= 4883.358887, Accuracy= 0.96094\n",
      "loss= 5001.950684, Accuracy= 0.95312\n",
      "loss= 406.451904, Accuracy= 0.98438\n",
      "loss= 3893.906494, Accuracy= 0.96875\n",
      "loss= 1951.913696, Accuracy= 0.95312\n",
      "loss= 3109.234375, Accuracy= 0.98438\n",
      "loss= 87.961060, Accuracy= 0.99219\n",
      "loss= 5096.819336, Accuracy= 0.96094\n",
      "loss= 2268.124512, Accuracy= 0.98438\n",
      "loss= 4245.651367, Accuracy= 0.95312\n",
      "loss= 2095.548340, Accuracy= 0.96875\n",
      "loss= 4509.294922, Accuracy= 0.94531\n",
      "loss= 2449.729004, Accuracy= 0.96875\n",
      "loss= 1766.228394, Accuracy= 0.97656\n",
      "loss= 3162.188965, Accuracy= 0.98438\n",
      "loss= 273.994263, Accuracy= 0.99219\n",
      "loss= 512.938782, Accuracy= 0.98438\n",
      "loss= 0.000000, Accuracy= 1.00000\n",
      "loss= 2754.024902, Accuracy= 0.97656\n",
      "loss= 2054.575684, Accuracy= 0.99219\n",
      "loss= 1882.317017, Accuracy= 0.97656\n",
      "loss= 3808.383789, Accuracy= 0.98438\n",
      "loss= 1567.194092, Accuracy= 0.98438\n",
      "loss= 1195.713623, Accuracy= 0.97656\n",
      "loss= 1253.482666, Accuracy= 0.97656\n",
      "loss= 1145.639648, Accuracy= 0.97656\n",
      "loss= 4105.714844, Accuracy= 0.96875\n",
      "loss= 4695.366699, Accuracy= 0.96875\n",
      "loss= 6771.564453, Accuracy= 0.97656\n",
      "loss= 2466.250244, Accuracy= 0.98438\n",
      "loss= 772.702026, Accuracy= 0.97656\n",
      "loss= 2742.111328, Accuracy= 0.97656\n",
      "loss= 544.980469, Accuracy= 0.97656\n",
      "loss= 4286.031250, Accuracy= 0.96094\n",
      "loss= 55.676697, Accuracy= 0.98438\n",
      "loss= 0.000000, Accuracy= 1.00000\n",
      "loss= 0.000000, Accuracy= 1.00000\n",
      "loss= 27.028564, Accuracy= 0.99219\n",
      "loss= 512.664734, Accuracy= 0.97656\n",
      "loss= 896.411194, Accuracy= 0.99219\n",
      "loss= 5968.449219, Accuracy= 0.96875\n",
      "loss= 108.058472, Accuracy= 0.98438\n",
      "loss= 4588.642578, Accuracy= 0.96875\n",
      "loss= 3236.330566, Accuracy= 0.95312\n",
      "loss= 1064.868652, Accuracy= 0.99219\n",
      "loss= 0.000000, Accuracy= 1.00000\n",
      "loss= 791.982849, Accuracy= 0.99219\n",
      "loss= 5369.167969, Accuracy= 0.97656\n",
      "loss= 3323.986816, Accuracy= 0.98438\n",
      "loss= 0.000000, Accuracy= 1.00000\n",
      "loss= 123.576904, Accuracy= 0.98438\n",
      "loss= 2972.358643, Accuracy= 0.96875\n",
      "loss= 437.913483, Accuracy= 0.99219\n",
      "loss= 1283.962646, Accuracy= 0.98438\n",
      "loss= 66.008759, Accuracy= 0.99219\n",
      "loss= 0.000000, Accuracy= 1.00000\n",
      "loss= 0.000000, Accuracy= 1.00000\n",
      "loss= 1532.437744, Accuracy= 0.98438\n",
      "loss= 442.275421, Accuracy= 0.99219\n",
      "loss= 0.000000, Accuracy= 1.00000\n",
      "loss= 0.000000, Accuracy= 1.00000\n",
      "loss= 3518.596680, Accuracy= 0.96875\n",
      "loss= 55.810020, Accuracy= 0.98438\n",
      "loss= 264.646240, Accuracy= 0.99219\n",
      "loss= 9695.166992, Accuracy= 0.97656\n",
      "loss= 1801.821899, Accuracy= 0.98438\n",
      "loss= 1149.868164, Accuracy= 0.98438\n",
      "loss= 1502.729858, Accuracy= 0.97656\n",
      "loss= 1597.509033, Accuracy= 0.98438\n",
      "loss= 1269.305420, Accuracy= 0.98438\n",
      "loss= 0.000000, Accuracy= 1.00000\n",
      "loss= 1813.488037, Accuracy= 0.97656\n",
      "loss= 0.000000, Accuracy= 1.00000\n",
      "loss= 0.000000, Accuracy= 1.00000\n",
      "loss= 4886.592773, Accuracy= 0.96875\n",
      "loss= 310.174316, Accuracy= 0.99219\n",
      "loss= 0.000000, Accuracy= 1.00000\n",
      "loss= 327.300049, Accuracy= 0.99219\n",
      "loss= 493.513428, Accuracy= 0.99219\n",
      "loss= 27.443848, Accuracy= 0.99219\n",
      "loss= 0.000000, Accuracy= 1.00000\n",
      "loss= 88.401855, Accuracy= 0.99219\n",
      "Optimization Finished!\n",
      "1493653522.59\n",
      "('Testing Accuracy:', 0.97265625)\n"
     ]
    }
   ],
   "source": [
    "# Launch the graph\n",
    "with tf.Session() as sess:\n",
    "    t = time.time()\n",
    "    sess.run(init)\n",
    "    step = 1\n",
    "    # Keep training until reach max iterations\n",
    "    while step * batch_size < training_iters:\n",
    "        batch_x, batch_y = mnist.train.next_batch(batch_size)\n",
    "        # Run optimization op (backprop)\n",
    "        sess.run(optimizer, feed_dict={x: batch_x, y: batch_y})\n",
    "        if step % display_step == 0:\n",
    "            # Calculate batch loss and accuracy\n",
    "            loss, acc = sess.run([cost, accuracy], feed_dict={x: batch_x, y: batch_y})\n",
    "            print(\"loss= {:.6f}\".format(loss) + \", Accuracy= {:.5f}\".format(acc))\n",
    "        step += 1\n",
    "    print(\"Optimization Finished!\")\n",
    "    print t\n",
    "    # Calculate accuracy for 256 mnist test images\n",
    "    print(\"Testing Accuracy:\", sess.run(accuracy, feed_dict={x: mnist.test.images[:256], y: mnist.test.labels[:256]}))"
   ]
  },
  {
   "cell_type": "code",
   "execution_count": null,
   "metadata": {
    "collapsed": true
   },
   "outputs": [],
   "source": []
  },
  {
   "cell_type": "code",
   "execution_count": null,
   "metadata": {
    "collapsed": true
   },
   "outputs": [],
   "source": []
  }
 ],
 "metadata": {
  "kernelspec": {
   "display_name": "Python 2",
   "language": "python",
   "name": "python2"
  },
  "language_info": {
   "codemirror_mode": {
    "name": "ipython",
    "version": 2
   },
   "file_extension": ".py",
   "mimetype": "text/x-python",
   "name": "python",
   "nbconvert_exporter": "python",
   "pygments_lexer": "ipython2",
   "version": "2.7.6"
  }
 },
 "nbformat": 4,
 "nbformat_minor": 2
}
