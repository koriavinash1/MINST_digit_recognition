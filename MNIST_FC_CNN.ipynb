{
 "cells": [
  {
   "cell_type": "code",
   "execution_count": 1,
   "metadata": {},
   "outputs": [
    {
     "name": "stdout",
     "output_type": "stream",
     "text": [
      "Extracting /tmp/data/train-images-idx3-ubyte.gz\n",
      "Extracting /tmp/data/train-labels-idx1-ubyte.gz\n",
      "Extracting /tmp/data/t10k-images-idx3-ubyte.gz\n",
      "Extracting /tmp/data/t10k-labels-idx1-ubyte.gz\n"
     ]
    }
   ],
   "source": [
    "# import tensorflow library\n",
    "import tensorflow as tf\n",
    "# Import MNIST data\n",
    "from tensorflow.examples.tutorials.mnist import input_data\n",
    "# one_hot key implies lables in onehot encoding\n",
    "mnist = input_data.read_data_sets(\"/tmp/data/\", one_hot=True)"
   ]
  },
  {
   "cell_type": "code",
   "execution_count": 2,
   "metadata": {
    "collapsed": true
   },
   "outputs": [],
   "source": [
    "# Parameters\n",
    "learning_rate = 0.001\n",
    "training_iters = 200000\n",
    "batch_size = 128\n",
    "display_step = 10"
   ]
  },
  {
   "cell_type": "code",
   "execution_count": 3,
   "metadata": {
    "collapsed": true
   },
   "outputs": [],
   "source": [
    "# Network Parameters\n",
    "n_input = 784 # 28*28\n",
    "n_classes = 10 # (0-9 digits)\n",
    "dropout = 0.75 # What use?"
   ]
  },
  {
   "cell_type": "code",
   "execution_count": 4,
   "metadata": {
    "collapsed": true
   },
   "outputs": [],
   "source": [
    "# define placeholders\n",
    "x = tf.placeholder(tf.float32, shape=(None, n_input))\n",
    "y = tf.placeholder(tf.float32, shape=(None, n_classes))"
   ]
  },
  {
   "cell_type": "code",
   "execution_count": 5,
   "metadata": {
    "collapsed": true
   },
   "outputs": [],
   "source": [
    "# miscill... functions\n",
    "def define_variable(shape, name): \n",
    "    return tf.Variable(tf.truncated_normal(shape, name = name))\n",
    "\n",
    "def conv2d(x, W, b):\n",
    "    x = tf.nn.conv2d(x, W, strides=[1, 1, 1, 1], padding='SAME')\n",
    "    x = tf.nn.bias_add(x, b)\n",
    "    return tf.nn.relu(x)\n",
    "\n",
    "def maxpool2d(x):\n",
    "    return tf.nn.max_pool(x, ksize=[1, 2, 2, 1], strides=[1, 2, 2, 1], padding='SAME')"
   ]
  },
  {
   "cell_type": "code",
   "execution_count": 6,
   "metadata": {
    "collapsed": true
   },
   "outputs": [],
   "source": [
    "weights = {\n",
    "    'wc1': define_variable([5, 5, 1, 32], 'wc1'), # 5x5 conv, 1 input, 32 outputs\n",
    "    'wc2': define_variable([5, 5, 32, 64], 'wc2'), # 5x5 conv, 32 inputs, 64 outputs\n",
    "    'wfc1': define_variable([7*7*64, 2048], 'wfc1'), # fully connected, 7*7*64 inputs, 2048 outputs\n",
    "    'wfc2': define_variable([2048, 1024], 'wfc2'), # fully connected, 2048 inputs, 1024 outputs\n",
    "    'out': define_variable([1024, n_classes], 'out') # 1024 inputs, 10 outputs (class prediction)\n",
    "}"
   ]
  },
  {
   "cell_type": "code",
   "execution_count": 7,
   "metadata": {
    "collapsed": true
   },
   "outputs": [],
   "source": [
    "biases = {\n",
    "    'bc1': define_variable([32], 'bc1'),\n",
    "    'bc2': define_variable([64], 'bc2'),\n",
    "    'bfc1': define_variable([2048], 'bfc1'),\n",
    "    'bfc2': define_variable([1024], 'bfc2'),\n",
    "    'out': define_variable([n_classes], 'out')\n",
    "}"
   ]
  },
  {
   "cell_type": "code",
   "execution_count": 8,
   "metadata": {
    "collapsed": true
   },
   "outputs": [],
   "source": [
    "def main_net(x, weights, biases, dropout = dropout):\n",
    "    # Reshape input picture\n",
    "    x = tf.reshape(x, shape=[-1, 28, 28, 1])\n",
    "\n",
    "    conv1 = conv2d(x, weights['wc1'], biases['bc1'])\n",
    "    conv1 = maxpool2d(conv1)\n",
    "\n",
    "    conv2 = conv2d(conv1, weights['wc2'], biases['bc2'])\n",
    "    conv2 = maxpool2d(conv2)\n",
    "    \n",
    "    print conv2\n",
    "    \n",
    "    # Reshape conv2 output to fit fully connected layer input\n",
    "    fc1 = tf.reshape(conv2, [-1, weights['wfc1'].get_shape().as_list()[0]])\n",
    "    \n",
    "    # fully connected layer 1\n",
    "    fc1 = tf.add(tf.matmul(fc1, weights['wfc1']), biases['bfc1'])\n",
    "    fc1 = tf.nn.relu(fc1)\n",
    "    \n",
    "    # fully connected layer 2\n",
    "    fc2 = tf.add(tf.matmul(fc1, weights['wfc2']), biases['bfc2'])\n",
    "    fc2 = tf.nn.relu(fc2)\n",
    "\n",
    "    # Output, class prediction\n",
    "    out = tf.add(tf.matmul(fc2, weights['out']), biases['out'])\n",
    "    return out"
   ]
  },
  {
   "cell_type": "code",
   "execution_count": 9,
   "metadata": {},
   "outputs": [
    {
     "name": "stdout",
     "output_type": "stream",
     "text": [
      "Tensor(\"MaxPool_1:0\", shape=(?, 7, 7, 64), dtype=float32)\n"
     ]
    }
   ],
   "source": [
    "# Construct model\n",
    "pred = main_net(x, weights, biases)\n",
    "\n",
    "# Define loss and optimizer\n",
    "cost = tf.reduce_mean(tf.nn.softmax_cross_entropy_with_logits(logits=pred, labels=y))\n",
    "optimizer = tf.train.AdamOptimizer(learning_rate=learning_rate).minimize(cost)\n",
    "\n",
    "# Evaluate model\n",
    "correct_pred = tf.equal(tf.argmax(pred, 1), tf.argmax(y, 1))\n",
    "accuracy = tf.reduce_mean(tf.cast(correct_pred, tf.float32))\n",
    "\n",
    "# Initializing the variables\n",
    "init = tf.global_variables_initializer()"
   ]
  },
  {
   "cell_type": "code",
   "execution_count": 10,
   "metadata": {},
   "outputs": [
    {
     "name": "stdout",
     "output_type": "stream",
     "text": [
      "loss= 133437.328125, Accuracy= 0.52344\n",
      "loss= 100841.796875, Accuracy= 0.65625\n",
      "loss= 86358.117188, Accuracy= 0.72656\n",
      "loss= 43234.800781, Accuracy= 0.85938\n",
      "loss= 33988.062500, Accuracy= 0.86719\n",
      "loss= 78702.601562, Accuracy= 0.82031\n",
      "loss= 17535.351562, Accuracy= 0.88281\n",
      "loss= 45343.789062, Accuracy= 0.83594\n",
      "loss= 20982.570312, Accuracy= 0.91406\n",
      "loss= 25560.402344, Accuracy= 0.89062\n",
      "loss= 9359.126953, Accuracy= 0.94531\n",
      "loss= 10485.594727, Accuracy= 0.92969\n",
      "loss= 23829.445312, Accuracy= 0.92969\n",
      "loss= 11477.622070, Accuracy= 0.95312\n",
      "loss= 12741.546875, Accuracy= 0.92969\n",
      "loss= 11270.962891, Accuracy= 0.93750\n",
      "loss= 41250.406250, Accuracy= 0.87500\n",
      "loss= 8590.367188, Accuracy= 0.94531\n",
      "loss= 16092.976562, Accuracy= 0.90625\n",
      "loss= 12858.408203, Accuracy= 0.92188\n",
      "loss= 20602.158203, Accuracy= 0.92188\n",
      "loss= 13687.070312, Accuracy= 0.94531\n",
      "loss= 13552.825195, Accuracy= 0.94531\n",
      "loss= 12094.213867, Accuracy= 0.93750\n",
      "loss= 9767.649414, Accuracy= 0.95312\n",
      "loss= 19218.210938, Accuracy= 0.93750\n",
      "loss= 5344.754883, Accuracy= 0.96875\n",
      "loss= 4723.420410, Accuracy= 0.94531\n",
      "loss= 6731.483398, Accuracy= 0.95312\n",
      "loss= 2444.760986, Accuracy= 0.97656\n",
      "loss= 2761.114258, Accuracy= 0.96875\n",
      "loss= 20362.730469, Accuracy= 0.92188\n",
      "loss= 8260.533203, Accuracy= 0.96094\n",
      "loss= 5148.729492, Accuracy= 0.97656\n",
      "loss= 5007.522949, Accuracy= 0.94531\n",
      "loss= 741.455688, Accuracy= 0.98438\n",
      "loss= 9914.424805, Accuracy= 0.92969\n",
      "loss= 22326.189453, Accuracy= 0.90625\n",
      "loss= 5767.864258, Accuracy= 0.95312\n",
      "loss= 5940.441406, Accuracy= 0.93750\n",
      "loss= 5469.986328, Accuracy= 0.95312\n",
      "loss= 4224.093750, Accuracy= 0.97656\n",
      "loss= 7794.093262, Accuracy= 0.96875\n",
      "loss= 4206.833008, Accuracy= 0.96094\n",
      "loss= 5264.480469, Accuracy= 0.95312\n",
      "loss= 11358.185547, Accuracy= 0.94531\n",
      "loss= 8303.328125, Accuracy= 0.95312\n",
      "loss= 4597.249512, Accuracy= 0.96875\n",
      "loss= 6245.585938, Accuracy= 0.96875\n",
      "loss= 2160.262695, Accuracy= 0.96875\n",
      "loss= 2819.857910, Accuracy= 0.96875\n",
      "loss= 8482.956055, Accuracy= 0.94531\n",
      "loss= 2705.854736, Accuracy= 0.96875\n",
      "loss= 4966.913086, Accuracy= 0.96875\n",
      "loss= 2349.958252, Accuracy= 0.98438\n",
      "loss= 293.196106, Accuracy= 0.99219\n",
      "loss= 5357.961426, Accuracy= 0.95312\n",
      "loss= 6367.389648, Accuracy= 0.95312\n",
      "loss= 2577.894043, Accuracy= 0.98438\n",
      "loss= 3900.716309, Accuracy= 0.96094\n",
      "loss= 5067.872070, Accuracy= 0.96875\n",
      "loss= 7099.563965, Accuracy= 0.97656\n",
      "loss= 1223.296997, Accuracy= 0.96875\n",
      "loss= 5469.080566, Accuracy= 0.96094\n",
      "loss= 1301.940918, Accuracy= 0.97656\n",
      "loss= 4384.380371, Accuracy= 0.98438\n",
      "loss= 2983.805664, Accuracy= 0.96094\n",
      "loss= 2934.891113, Accuracy= 0.96875\n",
      "loss= 11312.969727, Accuracy= 0.93750\n",
      "loss= 17900.023438, Accuracy= 0.93750\n",
      "loss= 5811.054688, Accuracy= 0.96875\n",
      "loss= 3161.431396, Accuracy= 0.98438\n",
      "loss= 3285.856689, Accuracy= 0.97656\n",
      "loss= 12219.138672, Accuracy= 0.96094\n",
      "loss= 2838.855225, Accuracy= 0.97656\n",
      "loss= 2315.464355, Accuracy= 0.97656\n",
      "loss= 767.912476, Accuracy= 0.95312\n",
      "loss= 2245.717285, Accuracy= 0.97656\n",
      "loss= 3576.708252, Accuracy= 0.96094\n",
      "loss= 0.000000, Accuracy= 1.00000\n",
      "loss= 0.000000, Accuracy= 1.00000\n",
      "loss= 2017.209839, Accuracy= 0.96875\n",
      "loss= 7765.906250, Accuracy= 0.97656\n",
      "loss= 6614.044922, Accuracy= 0.96875\n",
      "loss= 979.505920, Accuracy= 0.98438\n",
      "loss= 2134.002930, Accuracy= 0.98438\n",
      "loss= 1123.405396, Accuracy= 0.98438\n",
      "loss= 748.532227, Accuracy= 0.97656\n",
      "loss= 1799.805054, Accuracy= 0.96875\n",
      "loss= 1801.207275, Accuracy= 0.99219\n",
      "loss= 3731.729980, Accuracy= 0.97656\n",
      "loss= 474.803467, Accuracy= 0.98438\n",
      "loss= 2086.689941, Accuracy= 0.97656\n",
      "loss= 67.129822, Accuracy= 0.98438\n",
      "loss= 2463.118652, Accuracy= 0.98438\n",
      "loss= 3445.190674, Accuracy= 0.97656\n",
      "loss= 1361.595337, Accuracy= 0.99219\n",
      "loss= 4661.337891, Accuracy= 0.96875\n",
      "loss= 279.319763, Accuracy= 0.98438\n",
      "loss= 1470.337280, Accuracy= 0.99219\n",
      "loss= 2328.600098, Accuracy= 0.96094\n",
      "loss= 6549.448242, Accuracy= 0.96094\n",
      "loss= 347.336487, Accuracy= 0.98438\n",
      "loss= 1474.324707, Accuracy= 0.98438\n",
      "loss= 3853.308105, Accuracy= 0.97656\n",
      "loss= 4337.132812, Accuracy= 0.98438\n",
      "loss= 2268.140137, Accuracy= 0.98438\n",
      "loss= 701.966064, Accuracy= 0.98438\n",
      "loss= 2114.189941, Accuracy= 0.98438\n",
      "loss= 3391.055908, Accuracy= 0.98438\n",
      "loss= 1231.396729, Accuracy= 0.99219\n",
      "loss= 3133.596680, Accuracy= 0.96875\n",
      "loss= 357.518311, Accuracy= 0.99219\n",
      "loss= 4564.746582, Accuracy= 0.95312\n",
      "loss= 1947.794556, Accuracy= 0.98438\n",
      "loss= 159.265503, Accuracy= 0.98438\n",
      "loss= 1640.475098, Accuracy= 0.99219\n",
      "loss= 492.622192, Accuracy= 0.96875\n",
      "loss= 861.775879, Accuracy= 0.99219\n",
      "loss= 1021.187256, Accuracy= 0.97656\n",
      "loss= 2245.905273, Accuracy= 0.97656\n",
      "loss= 2448.417969, Accuracy= 0.98438\n",
      "loss= 0.000000, Accuracy= 1.00000\n",
      "loss= 68.300049, Accuracy= 0.99219\n",
      "loss= 3293.377930, Accuracy= 0.96094\n",
      "loss= 1613.096680, Accuracy= 0.96875\n",
      "loss= 1165.515137, Accuracy= 0.96875\n",
      "loss= 0.000000, Accuracy= 1.00000\n",
      "loss= 1561.264893, Accuracy= 0.98438\n",
      "loss= 0.000000, Accuracy= 1.00000\n",
      "loss= 284.911072, Accuracy= 0.99219\n",
      "loss= 0.000000, Accuracy= 1.00000\n",
      "loss= 0.000000, Accuracy= 1.00000\n",
      "loss= 0.000000, Accuracy= 1.00000\n",
      "loss= 3724.495361, Accuracy= 0.96875\n",
      "loss= 0.000000, Accuracy= 1.00000\n",
      "loss= 1601.814209, Accuracy= 0.98438\n",
      "loss= 1846.253296, Accuracy= 0.98438\n",
      "loss= 1851.404053, Accuracy= 0.97656\n",
      "loss= 463.241882, Accuracy= 0.99219\n",
      "loss= 953.328247, Accuracy= 0.98438\n",
      "loss= 290.677002, Accuracy= 0.99219\n",
      "loss= 312.659668, Accuracy= 0.99219\n",
      "loss= 300.725098, Accuracy= 0.98438\n",
      "loss= 2995.702881, Accuracy= 0.98438\n",
      "loss= 0.000000, Accuracy= 1.00000\n",
      "loss= 1272.621948, Accuracy= 0.98438\n",
      "loss= 684.867554, Accuracy= 0.96875\n",
      "loss= 0.000000, Accuracy= 1.00000\n",
      "loss= 0.000000, Accuracy= 1.00000\n",
      "loss= 141.059601, Accuracy= 0.99219\n",
      "loss= 0.000000, Accuracy= 1.00000\n",
      "loss= 313.891479, Accuracy= 0.99219\n",
      "loss= 3143.428223, Accuracy= 0.97656\n",
      "loss= 0.000000, Accuracy= 1.00000\n",
      "loss= 3645.977051, Accuracy= 0.96875\n",
      "Optimization Finished!\n",
      "('Testing Accuracy:', 0.97265625)\n"
     ]
    }
   ],
   "source": [
    "# Launch the graph\n",
    "with tf.Session() as sess:\n",
    "    sess.run(init)\n",
    "    step = 1\n",
    "    # Keep training until reach max iterations\n",
    "    while step * batch_size < training_iters:\n",
    "        batch_x, batch_y = mnist.train.next_batch(batch_size)\n",
    "        # Run optimization op (backprop)\n",
    "        sess.run(optimizer, feed_dict={x: batch_x, y: batch_y})\n",
    "        if step % display_step == 0:\n",
    "            # Calculate batch loss and accuracy\n",
    "            loss, acc = sess.run([cost, accuracy], feed_dict={x: batch_x, y: batch_y})\n",
    "            print(\"loss= {:.6f}\".format(loss) + \", Accuracy= {:.5f}\".format(acc))\n",
    "        step += 1\n",
    "    print(\"Optimization Finished!\")\n",
    "\n",
    "    # Calculate accuracy for 256 mnist test images\n",
    "    print(\"Testing Accuracy:\", sess.run(accuracy, feed_dict={x: mnist.test.images[:256], y: mnist.test.labels[:256]}))"
   ]
  },
  {
   "cell_type": "code",
   "execution_count": null,
   "metadata": {
    "collapsed": true
   },
   "outputs": [],
   "source": []
  },
  {
   "cell_type": "code",
   "execution_count": null,
   "metadata": {
    "collapsed": true
   },
   "outputs": [],
   "source": []
  }
 ],
 "metadata": {
  "kernelspec": {
   "display_name": "Python 2",
   "language": "python",
   "name": "python2"
  },
  "language_info": {
   "codemirror_mode": {
    "name": "ipython",
    "version": 2
   },
   "file_extension": ".py",
   "mimetype": "text/x-python",
   "name": "python",
   "nbconvert_exporter": "python",
   "pygments_lexer": "ipython2",
   "version": "2.7.6"
  }
 },
 "nbformat": 4,
 "nbformat_minor": 2
}
