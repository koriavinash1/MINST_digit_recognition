{
 "cells": [
  {
   "cell_type": "code",
   "execution_count": 3,
   "metadata": {
    "scrolled": true
   },
   "outputs": [
    {
     "name": "stdout",
     "output_type": "stream",
     "text": [
      "Successfully downloaded train-images-idx3-ubyte.gz 9912422 bytes.\n",
      "Extracting dataset/train-images-idx3-ubyte.gz\n",
      "Successfully downloaded train-labels-idx1-ubyte.gz 28881 bytes.\n",
      "Extracting dataset/train-labels-idx1-ubyte.gz\n",
      "Successfully downloaded t10k-images-idx3-ubyte.gz 1648877 bytes.\n",
      "Extracting dataset/t10k-images-idx3-ubyte.gz\n",
      "Successfully downloaded t10k-labels-idx1-ubyte.gz 4542 bytes.\n",
      "Extracting dataset/t10k-labels-idx1-ubyte.gz\n"
     ]
    }
   ],
   "source": [
    "# import tensorflow library\n",
    "import tensorflow as tf\n",
    "import time\n",
    "# Import MNIST data\n",
    "from tensorflow.examples.tutorials.mnist import input_data\n",
    "# one_hot key implies lables in onehot encoding\n",
    "mnist = input_data.read_data_sets(\"dataset\", one_hot=True)"
   ]
  },
  {
   "cell_type": "code",
   "execution_count": 4,
   "metadata": {
    "collapsed": true
   },
   "outputs": [],
   "source": [
    "learning_rate = 0.001\n",
    "training_iters = 20\n",
    "batch_size = 5\n",
    "display_step = 10"
   ]
  },
  {
   "cell_type": "code",
   "execution_count": 5,
   "metadata": {
    "collapsed": true
   },
   "outputs": [],
   "source": [
    "# Network Parameters\n",
    "n_input = 784 # 28*28\n",
    "n_classes = 10 # (0-9 digits)\n",
    "dropout = 0.75 # What use?: to make network neuron more independent...."
   ]
  },
  {
   "cell_type": "code",
   "execution_count": 6,
   "metadata": {
    "collapsed": true
   },
   "outputs": [],
   "source": [
    "# define placeholders\n",
    "x = tf.placeholder(tf.float32, shape=(None, n_input))\n",
    "y = tf.placeholder(tf.float32, shape=(None, n_classes))"
   ]
  },
  {
   "cell_type": "code",
   "execution_count": 7,
   "metadata": {
    "collapsed": true
   },
   "outputs": [],
   "source": [
    "# miscill... functions\n",
    "def define_variable(shape, name): \n",
    "    return tf.Variable(tf.truncated_normal(shape, name = name))\n",
    "\n",
    "def conv2d(x, W, b):\n",
    "    x = tf.nn.conv2d(x, W, strides=[1, 1, 1, 1], padding='VALID')\n",
    "    x = tf.nn.bias_add(x, b)\n",
    "    return tf.nn.relu(x)\n",
    "\n",
    "def maxpool2d(x):\n",
    "    return tf.nn.max_pool(x, ksize=[1, 2, 2, 1], strides=[1, 2, 2, 1], padding='VALID')\n"
   ]
  },
  {
   "cell_type": "code",
   "execution_count": 8,
   "metadata": {},
   "outputs": [
    {
     "data": {
      "text/plain": [
       "<tf.Tensor 'out_1:0' shape=() dtype=string>"
      ]
     },
     "execution_count": 8,
     "metadata": {},
     "output_type": "execute_result"
    }
   ],
   "source": [
    "weights = {\n",
    "    'wc1': define_variable([6, 6, 1, 40], 'wc1'), # 5x5 conv, 1 input, 40 outputs \n",
    "    'wc2': define_variable([6, 6, 40, 80], 'wc2'), # 5x5 conv, 40 inputs, 80 outputs\n",
    "    'wc3': define_variable([3, 3, 80, 1024], 'wc3'), # 5x5 conv, 80 inputs, 500 outputs\n",
    "    'out': define_variable([1024, n_classes], 'out') # 1024 inputs, 10 outputs (class prediction)\n",
    "}\n",
    "tf.summary.histogram(\"wc1\", weights['wc1'])\n",
    "tf.summary.histogram(\"wc2\", weights['wc2'])\n",
    "tf.summary.histogram(\"wc3\", weights['wc3'])\n",
    "tf.summary.histogram(\"out\", weights['out'])"
   ]
  },
  {
   "cell_type": "code",
   "execution_count": 9,
   "metadata": {},
   "outputs": [
    {
     "data": {
      "text/plain": [
       "<tf.Tensor 'out_3:0' shape=() dtype=string>"
      ]
     },
     "execution_count": 9,
     "metadata": {},
     "output_type": "execute_result"
    }
   ],
   "source": [
    "biases = {\n",
    "    'bc1': define_variable([40], 'bc1'),\n",
    "    'bc2': define_variable([80], 'bc2'),\n",
    "    'bc3': define_variable([1024], 'bc3'),\n",
    "    'out': define_variable([n_classes], 'out')\n",
    "}\n",
    "tf.summary.histogram(\"bc1\", biases['bc1'])\n",
    "tf.summary.histogram(\"bc2\", biases['bc2'])\n",
    "tf.summary.histogram(\"bc3\", biases['bc3'])\n",
    "tf.summary.histogram(\"out\", biases['out'])"
   ]
  },
  {
   "cell_type": "code",
   "execution_count": 10,
   "metadata": {
    "collapsed": true
   },
   "outputs": [],
   "source": [
    "def main_net(x, weights, biases, dropout = dropout):\n",
    "    x = tf.reshape(x, shape=[-1, 28, 28, 1])\n",
    "    \n",
    "    conv1 = conv2d(x, weights['wc1'], biases['bc1']) # feature map dimension : 23x23\n",
    "    pool1 = maxpool2d(conv1) # feature map dimension :  11x11\n",
    "\n",
    "    conv2 = conv2d(pool1, weights['wc2'], biases['bc2']) # feature map dimension : 6x6\n",
    "    pool2 = maxpool2d(conv2) # feature map dimension : 3x3\n",
    "    \n",
    "    conv3 = conv2d(pool2, weights['wc3'], biases['bc3']) # feature map dimension : 1x1\n",
    "    \n",
    "    unroll = tf.reshape(conv3, [-1, weights['out'].get_shape().as_list()[0]])\n",
    "    print unroll\n",
    "    \n",
    "    out = tf.add(tf.matmul(unroll, weights['out']), biases['out'])\n",
    "    return out"
   ]
  },
  {
   "cell_type": "code",
   "execution_count": 11,
   "metadata": {
    "scrolled": true
   },
   "outputs": [
    {
     "name": "stdout",
     "output_type": "stream",
     "text": [
      "Tensor(\"Reshape_1:0\", shape=(?, 1024), dtype=float32)\n"
     ]
    }
   ],
   "source": [
    "pred = main_net(x, weights, biases)\n",
    "\n",
    "cost = tf.reduce_mean(tf.nn.softmax_cross_entropy_with_logits(logits=pred, labels=y))\n",
    "optimizer = tf.train.AdamOptimizer(learning_rate=learning_rate).minimize(cost)\n",
    "\n",
    "correct_pred = tf.equal(tf.argmax(pred, 1), tf.argmax(y, 1))\n",
    "accuracy = tf.reduce_mean(tf.cast(correct_pred, tf.float32))\n",
    "merged = tf.summary.merge_all()\n",
    "init = tf.global_variables_initializer()"
   ]
  },
  {
   "cell_type": "code",
   "execution_count": 12,
   "metadata": {
    "scrolled": true
   },
   "outputs": [
    {
     "name": "stdout",
     "output_type": "stream",
     "text": [
      "Optimization Finished!\n",
      "1493893725.37\n",
      "('Testing Accuracy:', 0.1015625)\n"
     ]
    }
   ],
   "source": [
    "with tf.Session() as sess:\n",
    "    sess.run(init)\n",
    "    writer = tf.summary.FileWriter('/tmp/data', sess.graph)\n",
    "    step = 1\n",
    "    while step * batch_size < training_iters:\n",
    "        st = time.time()\n",
    "        batch_x, batch_y = mnist.train.next_batch(batch_size)\n",
    "        sess.run(optimizer, feed_dict={x: batch_x, y: batch_y})\n",
    "        if step % display_step == 0:\n",
    "            # Calculate batch loss and accuracy\n",
    "            summary, loss, acc = sess.run([merged, cost, accuracy], feed_dict={x: batch_x, y: batch_y})\n",
    "            print(\"loss= {:.6f}\".format(loss) + \", Accuracy= {:.5f}\".format(acc))\n",
    "        step += 1\n",
    "    print(\"Optimization Finished!\")\n",
    "    print st\n",
    "    print(\"Testing Accuracy:\", sess.run(accuracy, feed_dict={x: mnist.test.images[:256], y: mnist.test.labels[:256]}))"
   ]
  }
 ],
 "metadata": {
  "kernelspec": {
   "display_name": "Python 2",
   "language": "python",
   "name": "python2"
  },
  "language_info": {
   "codemirror_mode": {
    "name": "ipython",
    "version": 2
   },
   "file_extension": ".py",
   "mimetype": "text/x-python",
   "name": "python",
   "nbconvert_exporter": "python",
   "pygments_lexer": "ipython2",
   "version": "2.7.6"
  }
 },
 "nbformat": 4,
 "nbformat_minor": 2
}
