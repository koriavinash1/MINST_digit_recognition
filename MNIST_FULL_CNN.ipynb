{
 "cells": [
  {
   "cell_type": "code",
   "execution_count": 103,
   "metadata": {},
   "outputs": [
    {
     "name": "stdout",
     "output_type": "stream",
     "text": [
      "Extracting /tmp/data/train-images-idx3-ubyte.gz\n",
      "Extracting /tmp/data/train-labels-idx1-ubyte.gz\n",
      "Extracting /tmp/data/t10k-images-idx3-ubyte.gz\n",
      "Extracting /tmp/data/t10k-labels-idx1-ubyte.gz\n"
     ]
    }
   ],
   "source": [
    "# import tensorflow library\n",
    "import tensorflow as tf\n",
    "import time\n",
    "# Import MNIST data\n",
    "from tensorflow.examples.tutorials.mnist import input_data\n",
    "# one_hot key implies lables in onehot encoding\n",
    "mnist = input_data.read_data_sets(\"/tmp/data/\", one_hot=True)"
   ]
  },
  {
   "cell_type": "code",
   "execution_count": 104,
   "metadata": {},
   "outputs": [],
   "source": [
    "learning_rate = 0.001\n",
    "training_iters = 100000\n",
    "batch_size = 128\n",
    "display_step = 10"
   ]
  },
  {
   "cell_type": "code",
   "execution_count": 105,
   "metadata": {
    "collapsed": true
   },
   "outputs": [],
   "source": [
    "# Network Parameters\n",
    "n_input = 784 # 28*28\n",
    "n_classes = 10 # (0-9 digits)\n",
    "dropout = 0.75 # What use?: to make network neuron more independent...."
   ]
  },
  {
   "cell_type": "code",
   "execution_count": 106,
   "metadata": {
    "collapsed": true
   },
   "outputs": [],
   "source": [
    "# define placeholders\n",
    "x = tf.placeholder(tf.float32, shape=(None, n_input))\n",
    "y = tf.placeholder(tf.float32, shape=(None, n_classes))"
   ]
  },
  {
   "cell_type": "code",
   "execution_count": 107,
   "metadata": {
    "collapsed": true
   },
   "outputs": [],
   "source": [
    "# miscill... functions\n",
    "def define_variable(shape, name): \n",
    "    return tf.Variable(tf.truncated_normal(shape, name = name))\n",
    "\n",
    "def conv2d(x, W, b):\n",
    "    x = tf.nn.conv2d(x, W, strides=[1, 1, 1, 1], padding='VALID')\n",
    "    x = tf.nn.bias_add(x, b)\n",
    "    return tf.nn.relu(x)\n",
    "\n",
    "def maxpool2d(x):\n",
    "    return tf.nn.max_pool(x, ksize=[1, 2, 2, 1], strides=[1, 2, 2, 1], padding='VALID')\n"
   ]
  },
  {
   "cell_type": "code",
   "execution_count": 108,
   "metadata": {},
   "outputs": [
    {
     "data": {
      "text/plain": [
       "<tf.Tensor 'out_41:0' shape=() dtype=string>"
      ]
     },
     "execution_count": 108,
     "metadata": {},
     "output_type": "execute_result"
    }
   ],
   "source": [
    "weights = {\n",
    "    'wc1': define_variable([6, 6, 1, 40], 'wc1'), # 5x5 conv, 1 input, 40 outputs \n",
    "    'wc2': define_variable([6, 6, 40, 80], 'wc2'), # 5x5 conv, 40 inputs, 80 outputs\n",
    "    'wc3': define_variable([3, 3, 80, 1024], 'wc3'), # 5x5 conv, 80 inputs, 500 outputs\n",
    "    'out': define_variable([1024, n_classes], 'out') # 1024 inputs, 10 outputs (class prediction)\n",
    "}\n",
    "tf.summary.histogram(\"wc1\", weights['wc1'])\n",
    "tf.summary.histogram(\"wc2\", weights['wc2'])\n",
    "tf.summary.histogram(\"wc3\", weights['wc3'])\n",
    "tf.summary.histogram(\"out\", weights['out'])"
   ]
  },
  {
   "cell_type": "code",
   "execution_count": 109,
   "metadata": {},
   "outputs": [
    {
     "data": {
      "text/plain": [
       "<tf.Tensor 'out_43:0' shape=() dtype=string>"
      ]
     },
     "execution_count": 109,
     "metadata": {},
     "output_type": "execute_result"
    }
   ],
   "source": [
    "biases = {\n",
    "    'bc1': define_variable([40], 'bc1'),\n",
    "    'bc2': define_variable([80], 'bc2'),\n",
    "    'bc3': define_variable([1024], 'bc3'),\n",
    "    'out': define_variable([n_classes], 'out')\n",
    "}\n",
    "tf.summary.histogram(\"bc1\", biases['bc1'])\n",
    "tf.summary.histogram(\"bc2\", biases['bc2'])\n",
    "tf.summary.histogram(\"bc3\", biases['bc3'])\n",
    "tf.summary.histogram(\"out\", biases['out'])"
   ]
  },
  {
   "cell_type": "code",
   "execution_count": 110,
   "metadata": {
    "collapsed": true
   },
   "outputs": [],
   "source": [
    "def main_net(x, weights, biases, dropout = dropout):\n",
    "    x = tf.reshape(x, shape=[-1, 28, 28, 1])\n",
    "    \n",
    "    conv1 = conv2d(x, weights['wc1'], biases['bc1']) # feature map dimension : 23x23\n",
    "    pool1 = maxpool2d(conv1) # feature map dimension :  11x11\n",
    "\n",
    "    conv2 = conv2d(pool1, weights['wc2'], biases['bc2']) # feature map dimension : 6x6\n",
    "    pool2 = maxpool2d(conv2) # feature map dimension : 3x3\n",
    "    \n",
    "    conv3 = conv2d(pool2, weights['wc3'], biases['bc3']) # feature map dimension : 1x1\n",
    "    \n",
    "    unroll = tf.reshape(conv3, [-1, weights['out'].get_shape().as_list()[0]])\n",
    "    print unroll\n",
    "    \n",
    "    out = tf.add(tf.matmul(unroll, weights['out']), biases['out'])\n",
    "    return out"
   ]
  },
  {
   "cell_type": "code",
   "execution_count": 111,
   "metadata": {
    "scrolled": true
   },
   "outputs": [
    {
     "name": "stdout",
     "output_type": "stream",
     "text": [
      "Tensor(\"Reshape_47:0\", shape=(?, 1024), dtype=float32)\n"
     ]
    }
   ],
   "source": [
    "pred = main_net(x, weights, biases)\n",
    "\n",
    "cost = tf.reduce_mean(tf.nn.softmax_cross_entropy_with_logits(logits=pred, labels=y))\n",
    "optimizer = tf.train.AdamOptimizer(learning_rate=learning_rate).minimize(cost)\n",
    "\n",
    "correct_pred = tf.equal(tf.argmax(pred, 1), tf.argmax(y, 1))\n",
    "accuracy = tf.reduce_mean(tf.cast(correct_pred, tf.float32))\n",
    "init = tf.global_variables_initializer()"
   ]
  },
  {
   "cell_type": "code",
   "execution_count": 112,
   "metadata": {
    "scrolled": false
   },
   "outputs": [
    {
     "name": "stdout",
     "output_type": "stream",
     "text": [
      "loss= 17953.457031, Accuracy= 0.18750\n",
      "loss= 8038.373047, Accuracy= 0.36719\n",
      "loss= 5331.488281, Accuracy= 0.60156\n",
      "loss= 2903.068359, Accuracy= 0.64062\n",
      "loss= 3294.848633, Accuracy= 0.66406\n",
      "loss= 3828.307373, Accuracy= 0.66406\n",
      "loss= 2069.661377, Accuracy= 0.71094\n",
      "loss= 1830.491211, Accuracy= 0.78125\n",
      "loss= 1523.548340, Accuracy= 0.80469\n",
      "loss= 1725.619507, Accuracy= 0.74219\n",
      "loss= 981.713135, Accuracy= 0.82031\n",
      "loss= 1761.589233, Accuracy= 0.81250\n",
      "loss= 1569.620361, Accuracy= 0.79688\n",
      "loss= 577.398926, Accuracy= 0.87500\n",
      "loss= 1283.254883, Accuracy= 0.82812\n",
      "loss= 555.400879, Accuracy= 0.89062\n",
      "loss= 2505.768555, Accuracy= 0.78125\n",
      "loss= 771.553589, Accuracy= 0.86719\n",
      "loss= 1176.949951, Accuracy= 0.84375\n",
      "loss= 1021.625000, Accuracy= 0.80469\n",
      "loss= 1043.139893, Accuracy= 0.91406\n",
      "loss= 491.397827, Accuracy= 0.91406\n",
      "loss= 652.321655, Accuracy= 0.89844\n",
      "loss= 945.880371, Accuracy= 0.85156\n",
      "loss= 866.070374, Accuracy= 0.88281\n",
      "loss= 482.602997, Accuracy= 0.88281\n",
      "loss= 527.345886, Accuracy= 0.92969\n",
      "loss= 844.579224, Accuracy= 0.89062\n",
      "loss= 1434.423828, Accuracy= 0.85156\n",
      "loss= 117.805328, Accuracy= 0.94531\n",
      "loss= 232.900146, Accuracy= 0.95312\n",
      "loss= 1321.730591, Accuracy= 0.85938\n",
      "loss= 1700.229126, Accuracy= 0.81250\n",
      "loss= 371.911316, Accuracy= 0.95312\n",
      "loss= 295.198792, Accuracy= 0.92969\n",
      "loss= 262.161011, Accuracy= 0.90625\n",
      "loss= 837.853760, Accuracy= 0.92969\n",
      "loss= 595.501038, Accuracy= 0.92188\n",
      "loss= 670.509155, Accuracy= 0.87500\n",
      "loss= 417.986938, Accuracy= 0.91406\n",
      "loss= 374.150940, Accuracy= 0.90625\n",
      "loss= 216.754028, Accuracy= 0.95312\n",
      "loss= 783.952026, Accuracy= 0.90625\n",
      "loss= 292.625732, Accuracy= 0.93750\n",
      "loss= 566.628174, Accuracy= 0.93750\n",
      "loss= 583.509521, Accuracy= 0.91406\n",
      "loss= 526.522095, Accuracy= 0.89062\n",
      "loss= 448.895721, Accuracy= 0.93750\n",
      "loss= 487.358368, Accuracy= 0.91406\n",
      "loss= 153.862640, Accuracy= 0.94531\n",
      "loss= 412.448120, Accuracy= 0.91406\n",
      "loss= 515.043213, Accuracy= 0.93750\n",
      "loss= 926.186035, Accuracy= 0.86719\n",
      "loss= 765.733215, Accuracy= 0.91406\n",
      "loss= 347.615936, Accuracy= 0.92969\n",
      "loss= 487.479614, Accuracy= 0.91406\n",
      "loss= 577.252258, Accuracy= 0.96094\n",
      "loss= 651.957336, Accuracy= 0.91406\n",
      "loss= 871.328735, Accuracy= 0.93750\n",
      "loss= 239.299255, Accuracy= 0.95312\n",
      "loss= 257.874939, Accuracy= 0.94531\n",
      "loss= 686.952087, Accuracy= 0.92969\n",
      "loss= 320.427368, Accuracy= 0.92188\n",
      "loss= 326.339539, Accuracy= 0.96875\n",
      "loss= 338.071472, Accuracy= 0.92969\n",
      "loss= 288.820984, Accuracy= 0.95312\n",
      "loss= 248.167953, Accuracy= 0.92188\n",
      "loss= 92.349411, Accuracy= 0.97656\n",
      "loss= 317.137634, Accuracy= 0.96094\n",
      "loss= 868.097656, Accuracy= 0.85938\n",
      "loss= 37.701630, Accuracy= 0.96094\n",
      "loss= 17.316269, Accuracy= 0.99219\n",
      "loss= 447.362427, Accuracy= 0.93750\n",
      "loss= 564.590332, Accuracy= 0.92188\n",
      "loss= 691.629028, Accuracy= 0.89062\n",
      "loss= 350.314026, Accuracy= 0.96094\n",
      "loss= 962.241699, Accuracy= 0.89844\n",
      "loss= 189.600143, Accuracy= 0.96094\n",
      "Optimization Finished!\n",
      "1493697136.52\n",
      "('Testing Accuracy:', 0.94921875)\n"
     ]
    }
   ],
   "source": [
    "with tf.Session() as sess:\n",
    "    sess.run(init)\n",
    "    step = 1\n",
    "    while step * batch_size < training_iters:\n",
    "        st = time.time()\n",
    "        batch_x, batch_y = mnist.train.next_batch(batch_size)\n",
    "        sess.run(optimizer, feed_dict={x: batch_x, y: batch_y})\n",
    "        if step % display_step == 0:\n",
    "            # Calculate batch loss and accuracy\n",
    "            loss, acc = sess.run([cost, accuracy], feed_dict={x: batch_x, y: batch_y})\n",
    "            print(\"loss= {:.6f}\".format(loss) + \", Accuracy= {:.5f}\".format(acc))\n",
    "        step += 1\n",
    "    print(\"Optimization Finished!\")\n",
    "    print st\n",
    "    print(\"Testing Accuracy:\", sess.run(accuracy, feed_dict={x: mnist.test.images[:256], y: mnist.test.labels[:256]}))"
   ]
  },
  {
   "cell_type": "code",
   "execution_count": null,
   "metadata": {
    "collapsed": true
   },
   "outputs": [],
   "source": []
  },
  {
   "cell_type": "code",
   "execution_count": null,
   "metadata": {
    "collapsed": true
   },
   "outputs": [],
   "source": []
  }
 ],
 "metadata": {
  "kernelspec": {
   "display_name": "Python 2",
   "language": "python",
   "name": "python2"
  },
  "language_info": {
   "codemirror_mode": {
    "name": "ipython",
    "version": 2
   },
   "file_extension": ".py",
   "mimetype": "text/x-python",
   "name": "python",
   "nbconvert_exporter": "python",
   "pygments_lexer": "ipython2",
   "version": "2.7.6"
  }
 },
 "nbformat": 4,
 "nbformat_minor": 2
}
