{
 "cells": [
  {
   "cell_type": "code",
   "execution_count": 31,
   "metadata": {},
   "outputs": [
    {
     "name": "stdout",
     "output_type": "stream",
     "text": [
      "Extracting /tmp/data/train-images-idx3-ubyte.gz\n",
      "Extracting /tmp/data/train-labels-idx1-ubyte.gz\n",
      "Extracting /tmp/data/t10k-images-idx3-ubyte.gz\n",
      "Extracting /tmp/data/t10k-labels-idx1-ubyte.gz\n"
     ]
    }
   ],
   "source": [
    "# import tensorflow library\n",
    "import tensorflow as tf\n",
    "# Import MNIST data\n",
    "from tensorflow.examples.tutorials.mnist import input_data\n",
    "# one_hot key implies lables in onehot encoding\n",
    "mnist = input_data.read_data_sets(\"/tmp/data/\", one_hot=True)"
   ]
  },
  {
   "cell_type": "code",
   "execution_count": 32,
   "metadata": {
    "collapsed": true
   },
   "outputs": [],
   "source": [
    "learning_rate = 0.001\n",
    "training_iters = 5000\n",
    "batch_size = 128\n",
    "display_step = 10"
   ]
  },
  {
   "cell_type": "code",
   "execution_count": 33,
   "metadata": {
    "collapsed": true
   },
   "outputs": [],
   "source": [
    "# Network Parameters\n",
    "n_input = 784 # 28*28\n",
    "n_classes = 10 # (0-9 digits)\n",
    "dropout = 0.75 # What use?: to make network neuron more independent...."
   ]
  },
  {
   "cell_type": "code",
   "execution_count": 34,
   "metadata": {
    "collapsed": true
   },
   "outputs": [],
   "source": [
    "# define placeholders\n",
    "x = tf.placeholder(tf.float32, shape=(None, n_input))\n",
    "y = tf.placeholder(tf.float32, shape=(None, n_classes))"
   ]
  },
  {
   "cell_type": "code",
   "execution_count": 35,
   "metadata": {
    "collapsed": true
   },
   "outputs": [],
   "source": [
    "# miscill... functions\n",
    "def define_variable(shape, name): \n",
    "    return tf.Variable(tf.truncated_normal(shape, name = name))\n",
    "\n",
    "def conv2d(x, W, b):\n",
    "    x = tf.nn.conv2d(x, W, strides=[1, 1, 1, 1], padding='SAME')\n",
    "    x = tf.nn.bias_add(x, b)\n",
    "    return tf.nn.relu(x)\n",
    "\n",
    "def maxpool2d(x):\n",
    "    return tf.nn.max_pool(x, ksize=[1, 2, 2, 1], strides=[1, 2, 2, 1], padding='SAME')\n",
    "\n",
    "def variable_summaries(var):\n",
    "    with tf.name_scope('summaries'):\n",
    "        mean = tf.reduce_mean(var)\n",
    "        tf.summary.scalar('mean', mean)\n",
    "        with tf.name_scope('stddev'):\n",
    "            stddev = tf.sqrt(tf.reduce_mean(tf.square(var - mean)))\n",
    "        tf.summary.scalar('stddev', stddev)\n",
    "        tf.summary.scalar('max', tf.reduce_max(var))\n",
    "        tf.summary.scalar('min', tf.reduce_min(var))\n",
    "        tf.summary.histogram('histogram', var)\n"
   ]
  },
  {
   "cell_type": "code",
   "execution_count": 36,
   "metadata": {
    "collapsed": true
   },
   "outputs": [],
   "source": [
    "weights = {\n",
    "    'wc1': define_variable([5, 5, 1, 32], 'wc1'), # 5x5 conv, 1 input, 40 outputs \n",
    "    'wc2': define_variable([5, 5, 32, 64], 'wc2'), # 5x5 conv, 40 inputs, 80 outputs\n",
    "    'wc3': define_variable([5, 5, 64, 128], 'wc3'), # 5x5 conv, 80 inputs, 500 outputs\n",
    "    'wc4': define_variable([3, 3, 128, 516], 'wc4'), # 2x2 conv, 500 inputs, 1024 outputs\n",
    "    'wc5': define_variable([3, 3, 516, 1024], 'wc5'), # 2x2 conv, 500 inputs, 1024 outputs\n",
    "    'out': define_variable([1024, n_classes], 'out') # 1024 inputs, 10 outputs (class prediction)\n",
    "}"
   ]
  },
  {
   "cell_type": "code",
   "execution_count": 37,
   "metadata": {
    "collapsed": true
   },
   "outputs": [],
   "source": [
    "biases = {\n",
    "    'bc1': define_variable([32], 'bc1'),\n",
    "    'bc2': define_variable([64], 'bc2'),\n",
    "    'bc3': define_variable([128], 'bc3'),\n",
    "    'bc4': define_variable([516], 'bc4'),\n",
    "    'bc5': define_variable([1024], 'bc5'),\n",
    "    'out': define_variable([n_classes], 'out')\n",
    "}"
   ]
  },
  {
   "cell_type": "code",
   "execution_count": 38,
   "metadata": {
    "collapsed": true
   },
   "outputs": [],
   "source": [
    "def main_net(x, weights, biases, dropout = dropout):\n",
    "    x = tf.reshape(x, shape=[-1, 28, 28, 1])\n",
    "    \n",
    "    conv1 = conv2d(x, weights['wc1'], biases['bc1'])\n",
    "    pool1 = maxpool2d(conv1) # feature map dimension : 14x14\n",
    "\n",
    "    conv2 = conv2d(pool1, weights['wc2'], biases['bc2'])\n",
    "    pool2 = maxpool2d(conv2) # feature map dimension : 7x7\n",
    "    print pool2\n",
    "    \n",
    "    conv3 = conv2d(pool2, weights['wc3'], biases['bc3'])\n",
    "    pool3 = maxpool2d(conv3) # feature map dimension : 4x4\n",
    "    print pool3 \n",
    "    \n",
    "    conv4 = conv2d(pool3, weights['wc4'], biases['bc4'])\n",
    "    pool4 = maxpool2d(conv4) # feature map dimension : 2x2 \n",
    "    print pool4\n",
    "    \n",
    "    conv5 = conv2d(pool4, weights['wc5'], biases['bc5'])\n",
    "    pool5 = maxpool2d(conv5)\n",
    "    print pool5\n",
    "    \n",
    "    unroll = tf.reshape(pool5, [-1, weights['out'].get_shape().as_list()[0]])\n",
    "    print unroll\n",
    "    \n",
    "    out = tf.add(tf.matmul(unroll, weights['out']), biases['out'])\n",
    "    return out"
   ]
  },
  {
   "cell_type": "code",
   "execution_count": 39,
   "metadata": {
    "scrolled": true
   },
   "outputs": [
    {
     "name": "stdout",
     "output_type": "stream",
     "text": [
      "Tensor(\"MaxPool_16:0\", shape=(?, 7, 7, 64), dtype=float32)\n",
      "Tensor(\"MaxPool_17:0\", shape=(?, 4, 4, 128), dtype=float32)\n",
      "Tensor(\"MaxPool_18:0\", shape=(?, 2, 2, 516), dtype=float32)\n",
      "Tensor(\"MaxPool_19:0\", shape=(?, 1, 1, 1024), dtype=float32)\n",
      "Tensor(\"Reshape_16:0\", shape=(?, 1024), dtype=float32)\n"
     ]
    }
   ],
   "source": [
    "pred = main_net(x, weights, biases)\n",
    "\n",
    "cost = tf.reduce_mean(tf.nn.softmax_cross_entropy_with_logits(logits=pred, labels=y))\n",
    "optimizer = tf.train.AdamOptimizer(learning_rate=learning_rate).minimize(cost)\n",
    "\n",
    "correct_pred = tf.equal(tf.argmax(pred, 1), tf.argmax(y, 1))\n",
    "accuracy = tf.reduce_mean(tf.cast(correct_pred, tf.float32))\n",
    "\n",
    "init = tf.global_variables_initializer()"
   ]
  },
  {
   "cell_type": "code",
   "execution_count": 40,
   "metadata": {
    "scrolled": true
   },
   "outputs": [
    {
     "name": "stdout",
     "output_type": "stream",
     "text": [
      "loss= 14808062.000000, Accuracy= 0.33594\n",
      "loss= 4725499.000000, Accuracy= 0.49219\n",
      "loss= 2436205.500000, Accuracy= 0.67188\n",
      "Optimization Finished!\n",
      "('Testing Accuracy:', 0.66796875)\n"
     ]
    }
   ],
   "source": [
    "with tf.Session() as sess:\n",
    "    sess.run(init)\n",
    "    step = 1\n",
    "    while step * batch_size < training_iters:\n",
    "        batch_x, batch_y = mnist.train.next_batch(batch_size)\n",
    "        sess.run(optimizer, feed_dict={x: batch_x, y: batch_y})\n",
    "        if step % display_step == 0:\n",
    "            # Calculate batch loss and accuracy\n",
    "            loss, acc = sess.run([cost, accuracy], feed_dict={x: batch_x, y: batch_y})\n",
    "            print(\"loss= {:.6f}\".format(loss) + \", Accuracy= {:.5f}\".format(acc))\n",
    "        step += 1\n",
    "    writer = tf.summary.FileWriter(\"/abcd\", graph=tf.get_default_graph())\n",
    "    print(\"Optimization Finished!\")\n",
    "    \n",
    "    print(\"Testing Accuracy:\", sess.run(accuracy, feed_dict={x: mnist.test.images[:256], y: mnist.test.labels[:256]}))"
   ]
  },
  {
   "cell_type": "code",
   "execution_count": null,
   "metadata": {
    "collapsed": true
   },
   "outputs": [],
   "source": []
  },
  {
   "cell_type": "code",
   "execution_count": null,
   "metadata": {
    "collapsed": true
   },
   "outputs": [],
   "source": []
  }
 ],
 "metadata": {
  "kernelspec": {
   "display_name": "Python 2",
   "language": "python",
   "name": "python2"
  },
  "language_info": {
   "codemirror_mode": {
    "name": "ipython",
    "version": 2
   },
   "file_extension": ".py",
   "mimetype": "text/x-python",
   "name": "python",
   "nbconvert_exporter": "python",
   "pygments_lexer": "ipython2",
   "version": "2.7.6"
  }
 },
 "nbformat": 4,
 "nbformat_minor": 2
}
